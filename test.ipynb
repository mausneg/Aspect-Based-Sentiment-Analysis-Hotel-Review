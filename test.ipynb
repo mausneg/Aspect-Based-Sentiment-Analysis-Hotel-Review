{
 "cells": [
  {
   "cell_type": "code",
   "execution_count": 9,
   "metadata": {},
   "outputs": [
    {
     "name": "stdout",
     "output_type": "stream",
     "text": [
      "Original Text: This is an example sentence for text augmentation.\n",
      "Synonym Replacement Augmentation: This is an example sentence for text augmentation.\n",
      "Word Shuffling Augmentation: augmentation. is sentence for example an This text\n"
     ]
    }
   ],
   "source": [
    "import spacy\n",
    "import random\n",
    "\n",
    "# Load English language model\n",
    "nlp = spacy.load(\"en_core_web_sm\")\n",
    "\n",
    "from nltk.corpus import wordnet\n",
    "\n",
    "def synonym_replacement(text, n=1):\n",
    "    \"\"\"\n",
    "    Replace n words in the text with their synonyms.\n",
    "    \"\"\"\n",
    "    doc = nlp(text)\n",
    "    augmented_text = text\n",
    "    for token in doc:\n",
    "        if not token.is_stop and token.pos_ in [\"NOUN\", \"VERB\", \"ADJ\", \"ADV\"]:  # Consider only non-stopwords\n",
    "            synonyms = []\n",
    "            for syn in wordnet.synsets(token.text): \n",
    "                for lemma in syn.lemmas(): \n",
    "                    synonyms.append(lemma.name())\n",
    "            if synonyms:\n",
    "                replacement = random.choice(synonyms)\n",
    "                augmented_text = augmented_text.replace(token.text, replacement, 1)\n",
    "                n -= 1\n",
    "            if n <= 0:\n",
    "                break\n",
    "    return augmented_text\n",
    "\n",
    "def shuffle_words(text):\n",
    "    \"\"\"\n",
    "    Shuffle the words in the text.\n",
    "    \"\"\"\n",
    "    words = text.split()\n",
    "    random.shuffle(words)\n",
    "    return ' '.join(words)\n",
    "\n",
    "# Example text\n",
    "original_text = \"This is an example sentence for text augmentation.\"\n",
    "\n",
    "# Augment the text\n",
    "augmented_text_1 = synonym_replacement(original_text)\n",
    "augmented_text_2 = shuffle_words(original_text)\n",
    "\n",
    "print(\"Original Text:\", original_text)\n",
    "print(\"Synonym Replacement Augmentation:\", augmented_text_1)\n",
    "print(\"Word Shuffling Augmentation:\", augmented_text_2)\n"
   ]
  }
 ],
 "metadata": {
  "kernelspec": {
   "display_name": ".venv",
   "language": "python",
   "name": "python3"
  },
  "language_info": {
   "codemirror_mode": {
    "name": "ipython",
    "version": 3
   },
   "file_extension": ".py",
   "mimetype": "text/x-python",
   "name": "python",
   "nbconvert_exporter": "python",
   "pygments_lexer": "ipython3",
   "version": "3.9.0"
  }
 },
 "nbformat": 4,
 "nbformat_minor": 2
}
