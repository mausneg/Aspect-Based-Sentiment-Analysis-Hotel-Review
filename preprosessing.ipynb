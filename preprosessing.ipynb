{
 "cells": [
  {
   "cell_type": "markdown",
   "metadata": {},
   "source": [
    "# PREPROCESSING"
   ]
  },
  {
   "cell_type": "markdown",
   "metadata": {},
   "source": [
    "## GET DATA"
   ]
  },
  {
   "cell_type": "code",
   "execution_count": 18,
   "metadata": {},
   "outputs": [
    {
     "name": "stderr",
     "output_type": "stream",
     "text": [
      "[nltk_data] Error loading stopwords: <urlopen error [Errno 11001]\n",
      "[nltk_data]     getaddrinfo failed>\n",
      "[nltk_data] Error loading wordnet: <urlopen error [Errno 11001]\n",
      "[nltk_data]     getaddrinfo failed>\n",
      "[nltk_data] Error loading omw-1.4: <urlopen error [Errno 11001]\n",
      "[nltk_data]     getaddrinfo failed>\n"
     ]
    }
   ],
   "source": [
    "import pandas as pd\n",
    "import numpy as np\n",
    "import matplotlib.pyplot as plt\n",
    "from nltk.stem import LancasterStemmer\n",
    "import seaborn as sns\n",
    "import nltk\n",
    "import string\n",
    "import re\n",
    "nltk.download('stopwords')\n",
    "from nltk.corpus import stopwords\n",
    "nltk.download('wordnet')\n",
    "nltk.download('omw-1.4')\n",
    "%matplotlib inline\n",
    "sns.set_style(\"whitegrid\")\n",
    "\n",
    "import warnings\n",
    "warnings.filterwarnings('ignore')\n",
    "\n",
    "pd.pandas.set_option('display.max_columns', None)"
   ]
  },
  {
   "cell_type": "code",
   "execution_count": 19,
   "metadata": {},
   "outputs": [
    {
     "data": {
      "text/html": [
       "<div>\n",
       "<style scoped>\n",
       "    .dataframe tbody tr th:only-of-type {\n",
       "        vertical-align: middle;\n",
       "    }\n",
       "\n",
       "    .dataframe tbody tr th {\n",
       "        vertical-align: top;\n",
       "    }\n",
       "\n",
       "    .dataframe thead th {\n",
       "        text-align: right;\n",
       "    }\n",
       "</style>\n",
       "<table border=\"1\" class=\"dataframe\">\n",
       "  <thead>\n",
       "    <tr style=\"text-align: right;\">\n",
       "      <th></th>\n",
       "      <th>Review</th>\n",
       "      <th>Rating</th>\n",
       "    </tr>\n",
       "  </thead>\n",
       "  <tbody>\n",
       "    <tr>\n",
       "      <th>0</th>\n",
       "      <td>nice hotel expensive parking got good deal sta...</td>\n",
       "      <td>4</td>\n",
       "    </tr>\n",
       "    <tr>\n",
       "      <th>1</th>\n",
       "      <td>ok nothing special charge diamond member hilto...</td>\n",
       "      <td>2</td>\n",
       "    </tr>\n",
       "    <tr>\n",
       "      <th>2</th>\n",
       "      <td>nice rooms not 4* experience hotel monaco seat...</td>\n",
       "      <td>3</td>\n",
       "    </tr>\n",
       "    <tr>\n",
       "      <th>3</th>\n",
       "      <td>unique, great stay, wonderful time hotel monac...</td>\n",
       "      <td>5</td>\n",
       "    </tr>\n",
       "    <tr>\n",
       "      <th>4</th>\n",
       "      <td>great stay great stay, went seahawk game aweso...</td>\n",
       "      <td>5</td>\n",
       "    </tr>\n",
       "  </tbody>\n",
       "</table>\n",
       "</div>"
      ],
      "text/plain": [
       "                                              Review  Rating\n",
       "0  nice hotel expensive parking got good deal sta...       4\n",
       "1  ok nothing special charge diamond member hilto...       2\n",
       "2  nice rooms not 4* experience hotel monaco seat...       3\n",
       "3  unique, great stay, wonderful time hotel monac...       5\n",
       "4  great stay great stay, went seahawk game aweso...       5"
      ]
     },
     "execution_count": 19,
     "metadata": {},
     "output_type": "execute_result"
    }
   ],
   "source": [
    "df = pd.read_csv('Data/tripadvisor_hotel_reviews.csv', encoding = 'latin-1')\n",
    "df.head()"
   ]
  },
  {
   "cell_type": "code",
   "execution_count": 20,
   "metadata": {},
   "outputs": [
    {
     "data": {
      "text/html": [
       "<div>\n",
       "<style scoped>\n",
       "    .dataframe tbody tr th:only-of-type {\n",
       "        vertical-align: middle;\n",
       "    }\n",
       "\n",
       "    .dataframe tbody tr th {\n",
       "        vertical-align: top;\n",
       "    }\n",
       "\n",
       "    .dataframe thead th {\n",
       "        text-align: right;\n",
       "    }\n",
       "</style>\n",
       "<table border=\"1\" class=\"dataframe\">\n",
       "  <thead>\n",
       "    <tr style=\"text-align: right;\">\n",
       "      <th></th>\n",
       "      <th>Review</th>\n",
       "      <th>Rating</th>\n",
       "    </tr>\n",
       "  </thead>\n",
       "  <tbody>\n",
       "    <tr>\n",
       "      <th>0</th>\n",
       "      <td>nice hotel expensive parking got good deal sta...</td>\n",
       "      <td>4</td>\n",
       "    </tr>\n",
       "    <tr>\n",
       "      <th>1</th>\n",
       "      <td>ok nothing special charge diamond member hilto...</td>\n",
       "      <td>2</td>\n",
       "    </tr>\n",
       "    <tr>\n",
       "      <th>2</th>\n",
       "      <td>nice rooms not 4* experience hotel monaco seat...</td>\n",
       "      <td>3</td>\n",
       "    </tr>\n",
       "    <tr>\n",
       "      <th>3</th>\n",
       "      <td>unique, great stay, wonderful time hotel monac...</td>\n",
       "      <td>5</td>\n",
       "    </tr>\n",
       "    <tr>\n",
       "      <th>4</th>\n",
       "      <td>great stay great stay, went seahawk game aweso...</td>\n",
       "      <td>5</td>\n",
       "    </tr>\n",
       "  </tbody>\n",
       "</table>\n",
       "</div>"
      ],
      "text/plain": [
       "                                              Review  Rating\n",
       "0  nice hotel expensive parking got good deal sta...       4\n",
       "1  ok nothing special charge diamond member hilto...       2\n",
       "2  nice rooms not 4* experience hotel monaco seat...       3\n",
       "3  unique, great stay, wonderful time hotel monac...       5\n",
       "4  great stay great stay, went seahawk game aweso...       5"
      ]
     },
     "execution_count": 20,
     "metadata": {},
     "output_type": "execute_result"
    }
   ],
   "source": [
    "df.columns = ['Review', 'Rating']\n",
    "df.head()"
   ]
  },
  {
   "cell_type": "markdown",
   "metadata": {},
   "source": [
    "## CLEANING"
   ]
  },
  {
   "cell_type": "code",
   "execution_count": 21,
   "metadata": {},
   "outputs": [],
   "source": [
    "def create_label(rating):\n",
    "    if rating > 3:\n",
    "        return 'positive'\n",
    "    elif rating < 3:\n",
    "        return 'negative'\n",
    "    else:\n",
    "        return 'neutral'"
   ]
  },
  {
   "cell_type": "code",
   "execution_count": 22,
   "metadata": {},
   "outputs": [],
   "source": [
    "def remove_punctuation(text):\n",
    "    text = ''.join([char if char not in string.punctuation else ' ' for char in text]).lower()\n",
    "    return text"
   ]
  },
  {
   "cell_type": "code",
<<<<<<< HEAD
   "execution_count": 23,
=======
   "execution_count": 76,
>>>>>>> b7feb2f2741c62e8dc4c892b2fbb2ea3ef11f1b3
   "metadata": {},
   "outputs": [],
   "source": [
    "df['label'] = df['Rating'].apply(lambda x: create_label(x))\n",
    "df['clean_punc'] = df['Review'].apply(lambda x: remove_punctuation(x))"
   ]
  },
  {
   "cell_type": "code",
<<<<<<< HEAD
   "execution_count": 24,
=======
   "execution_count": 77,
>>>>>>> b7feb2f2741c62e8dc4c892b2fbb2ea3ef11f1b3
   "metadata": {},
   "outputs": [
    {
     "data": {
      "text/html": [
       "<div>\n",
       "<style scoped>\n",
       "    .dataframe tbody tr th:only-of-type {\n",
       "        vertical-align: middle;\n",
       "    }\n",
       "\n",
       "    .dataframe tbody tr th {\n",
       "        vertical-align: top;\n",
       "    }\n",
       "\n",
       "    .dataframe thead th {\n",
       "        text-align: right;\n",
       "    }\n",
       "</style>\n",
       "<table border=\"1\" class=\"dataframe\">\n",
       "  <thead>\n",
       "    <tr style=\"text-align: right;\">\n",
       "      <th></th>\n",
       "      <th>Review</th>\n",
       "      <th>Rating</th>\n",
       "      <th>label</th>\n",
       "      <th>clean_punc</th>\n",
       "    </tr>\n",
       "  </thead>\n",
       "  <tbody>\n",
       "    <tr>\n",
       "      <th>0</th>\n",
       "      <td>nice hotel expensive parking got good deal sta...</td>\n",
       "      <td>4</td>\n",
       "      <td>positive</td>\n",
       "      <td>nice hotel expensive parking got good deal sta...</td>\n",
       "    </tr>\n",
       "    <tr>\n",
       "      <th>1</th>\n",
       "      <td>ok nothing special charge diamond member hilto...</td>\n",
       "      <td>2</td>\n",
       "      <td>negative</td>\n",
       "      <td>ok nothing special charge diamond member hilto...</td>\n",
       "    </tr>\n",
       "    <tr>\n",
       "      <th>2</th>\n",
       "      <td>nice rooms not 4* experience hotel monaco seat...</td>\n",
       "      <td>3</td>\n",
       "      <td>neutral</td>\n",
       "      <td>nice rooms not 4  experience hotel monaco seat...</td>\n",
       "    </tr>\n",
       "    <tr>\n",
       "      <th>3</th>\n",
       "      <td>unique, great stay, wonderful time hotel monac...</td>\n",
       "      <td>5</td>\n",
       "      <td>positive</td>\n",
       "      <td>unique  great stay  wonderful time hotel monac...</td>\n",
       "    </tr>\n",
       "    <tr>\n",
       "      <th>4</th>\n",
       "      <td>great stay great stay, went seahawk game aweso...</td>\n",
       "      <td>5</td>\n",
       "      <td>positive</td>\n",
       "      <td>great stay great stay  went seahawk game aweso...</td>\n",
       "    </tr>\n",
       "  </tbody>\n",
       "</table>\n",
       "</div>"
      ],
      "text/plain": [
       "                                              Review  Rating     label  \\\n",
       "0  nice hotel expensive parking got good deal sta...       4  positive   \n",
       "1  ok nothing special charge diamond member hilto...       2  negative   \n",
       "2  nice rooms not 4* experience hotel monaco seat...       3   neutral   \n",
       "3  unique, great stay, wonderful time hotel monac...       5  positive   \n",
       "4  great stay great stay, went seahawk game aweso...       5  positive   \n",
       "\n",
       "                                          clean_punc  \n",
       "0  nice hotel expensive parking got good deal sta...  \n",
       "1  ok nothing special charge diamond member hilto...  \n",
       "2  nice rooms not 4  experience hotel monaco seat...  \n",
       "3  unique  great stay  wonderful time hotel monac...  \n",
       "4  great stay great stay  went seahawk game aweso...  "
      ]
     },
<<<<<<< HEAD
     "execution_count": 24,
=======
     "execution_count": 77,
>>>>>>> b7feb2f2741c62e8dc4c892b2fbb2ea3ef11f1b3
     "metadata": {},
     "output_type": "execute_result"
    }
   ],
   "source": [
    "df.head()"
   ]
  },
  {
   "cell_type": "markdown",
   "metadata": {},
   "source": [
    "## STOPWORD & LEMMATIZATION"
   ]
  },
  {
   "cell_type": "code",
<<<<<<< HEAD
   "execution_count": 25,
=======
   "execution_count": 78,
>>>>>>> b7feb2f2741c62e8dc4c892b2fbb2ea3ef11f1b3
   "metadata": {},
   "outputs": [],
   "source": [
    "stopwords_list = stopwords.words('english')\n",
    "def remove_stopwords(text):\n",
    "    token_words = text.split()\n",
    "    filtered_words = []\n",
    "    for word in token_words:\n",
    "        if word not in stopwords_list:\n",
    "            filtered_words.append(word)\n",
    "    return ' '.join(filtered_words)"
   ]
  },
  {
   "cell_type": "code",
<<<<<<< HEAD
   "execution_count": 26,
=======
   "execution_count": 79,
>>>>>>> b7feb2f2741c62e8dc4c892b2fbb2ea3ef11f1b3
   "metadata": {},
   "outputs": [],
   "source": [
    "lemmatizer = nltk.stem.WordNetLemmatizer()\n",
    "def lemmatize_text(sentence):\n",
    "    token_words = sentence.split()\n",
    "    lemmatize_text = []\n",
    "    for word in token_words:\n",
    "        lemmatize_text.append(lemmatizer.lemmatize(word,'v'))\n",
    "    return \" \".join(lemmatize_text)"
   ]
  },
  {
   "cell_type": "code",
<<<<<<< HEAD
   "execution_count": 27,
=======
   "execution_count": 80,
>>>>>>> b7feb2f2741c62e8dc4c892b2fbb2ea3ef11f1b3
   "metadata": {},
   "outputs": [],
   "source": [
    "def remove_token_with_word_and_number(text):\n",
    "    words = text.split()\n",
    "    filtered_words = []\n",
    "    for word in words:\n",
    "        if not any(char.isdigit() for char in word):\n",
    "            filtered_words.append(word)\n",
    "    return ' '.join(filtered_words)\n"
   ]
  },
  {
   "cell_type": "code",
<<<<<<< HEAD
   "execution_count": 32,
=======
   "execution_count": 81,
   "metadata": {},
   "outputs": [],
   "source": [
    "df['lemmatized_review'] = df['clean_punc'].apply(lambda x: lemmatize_text(x))\n",
    "df['number_review'] = df['lemmatized_review'].apply(lambda x: remove_token_with_word_and_number(x))"
   ]
  },
  {
   "cell_type": "code",
   "execution_count": 82,
>>>>>>> b7feb2f2741c62e8dc4c892b2fbb2ea3ef11f1b3
   "metadata": {},
   "outputs": [
    {
     "name": "stdout",
     "output_type": "stream",
     "text": [
<<<<<<< HEAD
      "Original Review:\t nice hotel expensive parking got good deal stay hotel anniversary, arrived late evening took advice previous reviews did valet parking, check quick easy, little disappointed non-existent view room room clean nice size, bed comfortable woke stiff neck high pillows, not soundproof like heard music room night morning loud bangs doors opening closing hear people talking hallway, maybe just noisy neighbors, aveda bath products nice, did not goldfish stay nice touch taken advantage staying longer, location great walking distance shopping, overall nice experience having pay 40 parking night,  \n",
      "Lemmatized Review:\t nice hotel expensive park get good deal stay hotel anniversary arrive late even take advice previous review do valet park check quick easy little disappoint non existent view room room clean nice size bed comfortable wake stiff neck high pillow not soundproof like hear music room night morning loud bang doors open close hear people talk hallway maybe just noisy neighbor aveda bath products nice do not goldfish stay nice touch take advantage stay longer location great walk distance shop overall nice experience have pay 40 park night\n"
=======
      "Original Review:\t noisy room room beautiful killer view right ballrooms wedding reception going, wife took 40th birthday supposed romantice evening away kids, got noisy 11:00 evening listening muffled 70 music people dancing, manager n't budge giving compensate bad experience, did offer smaller room, stay, stay friday saturday night ask stay far away ballroom possible,  \n",
      "Lemmatized Review:\t noisy room room beautiful killer view right ballrooms wed reception go wife take 40th birthday suppose romantice even away kid get noisy 1100 even listen muffle 70 music people dance manager nt budge give compensate bad experience do offer smaller room stay stay friday saturday night ask stay far away ballroom possible\n",
      "Token Number Review:\t noisy room room beautiful killer view right ballrooms wed reception go wife take birthday suppose romantice even away kid get noisy even listen muffle music people dance manager nt budge give compensate bad experience do offer smaller room stay stay friday saturday night ask stay far away ballroom possible\n"
>>>>>>> b7feb2f2741c62e8dc4c892b2fbb2ea3ef11f1b3
     ]
    }
   ],
   "source": [
    "print('Original Review:\\t', df['Review'][311])\n",
    "print('Lemmatized Review:\\t', df['lemmatized_review'][311])\n",
    "print('Token Number Review:\\t', df['number_review'][311])"
   ]
  },
  {
   "cell_type": "code",
<<<<<<< HEAD
   "execution_count": 29,
=======
   "execution_count": 83,
>>>>>>> b7feb2f2741c62e8dc4c892b2fbb2ea3ef11f1b3
   "metadata": {},
   "outputs": [
    {
     "data": {
      "text/html": [
       "<div>\n",
       "<style scoped>\n",
       "    .dataframe tbody tr th:only-of-type {\n",
       "        vertical-align: middle;\n",
       "    }\n",
       "\n",
       "    .dataframe tbody tr th {\n",
       "        vertical-align: top;\n",
       "    }\n",
       "\n",
       "    .dataframe thead th {\n",
       "        text-align: right;\n",
       "    }\n",
       "</style>\n",
       "<table border=\"1\" class=\"dataframe\">\n",
       "  <thead>\n",
       "    <tr style=\"text-align: right;\">\n",
       "      <th></th>\n",
       "      <th>Review</th>\n",
       "      <th>Rating</th>\n",
       "      <th>label</th>\n",
       "      <th>clean_punc</th>\n",
       "      <th>lemmatized_review</th>\n",
       "      <th>number_review</th>\n",
       "    </tr>\n",
       "  </thead>\n",
       "  <tbody>\n",
       "    <tr>\n",
       "      <th>0</th>\n",
       "      <td>nice hotel expensive parking got good deal sta...</td>\n",
       "      <td>4</td>\n",
       "      <td>positive</td>\n",
       "      <td>nice hotel expensive parking got good deal sta...</td>\n",
       "      <td>nice hotel expensive park get good deal stay h...</td>\n",
       "      <td>nice hotel expensive park get good deal stay h...</td>\n",
       "    </tr>\n",
       "    <tr>\n",
       "      <th>1</th>\n",
       "      <td>ok nothing special charge diamond member hilto...</td>\n",
       "      <td>2</td>\n",
       "      <td>negative</td>\n",
       "      <td>ok nothing special charge diamond member hilto...</td>\n",
       "      <td>ok nothing special charge diamond member hilto...</td>\n",
       "      <td>ok nothing special charge diamond member hilto...</td>\n",
       "    </tr>\n",
       "    <tr>\n",
       "      <th>2</th>\n",
       "      <td>nice rooms not 4* experience hotel monaco seat...</td>\n",
       "      <td>3</td>\n",
       "      <td>neutral</td>\n",
       "      <td>nice rooms not 4  experience hotel monaco seat...</td>\n",
       "      <td>nice room not 4 experience hotel monaco seattl...</td>\n",
       "      <td>nice room not experience hotel monaco seattle ...</td>\n",
       "    </tr>\n",
       "    <tr>\n",
       "      <th>3</th>\n",
       "      <td>unique, great stay, wonderful time hotel monac...</td>\n",
       "      <td>5</td>\n",
       "      <td>positive</td>\n",
       "      <td>unique  great stay  wonderful time hotel monac...</td>\n",
       "      <td>unique great stay wonderful time hotel monaco ...</td>\n",
       "      <td>unique great stay wonderful time hotel monaco ...</td>\n",
       "    </tr>\n",
       "    <tr>\n",
       "      <th>4</th>\n",
       "      <td>great stay great stay, went seahawk game aweso...</td>\n",
       "      <td>5</td>\n",
       "      <td>positive</td>\n",
       "      <td>great stay great stay  went seahawk game aweso...</td>\n",
       "      <td>great stay great stay go seahawk game awesome ...</td>\n",
       "      <td>great stay great stay go seahawk game awesome ...</td>\n",
       "    </tr>\n",
       "  </tbody>\n",
       "</table>\n",
       "</div>"
      ],
      "text/plain": [
       "                                              Review  Rating     label  \\\n",
       "0  nice hotel expensive parking got good deal sta...       4  positive   \n",
       "1  ok nothing special charge diamond member hilto...       2  negative   \n",
       "2  nice rooms not 4* experience hotel monaco seat...       3   neutral   \n",
       "3  unique, great stay, wonderful time hotel monac...       5  positive   \n",
       "4  great stay great stay, went seahawk game aweso...       5  positive   \n",
       "\n",
       "                                          clean_punc  \\\n",
       "0  nice hotel expensive parking got good deal sta...   \n",
       "1  ok nothing special charge diamond member hilto...   \n",
       "2  nice rooms not 4  experience hotel monaco seat...   \n",
       "3  unique  great stay  wonderful time hotel monac...   \n",
       "4  great stay great stay  went seahawk game aweso...   \n",
       "\n",
       "                                   lemmatized_review  \\\n",
       "0  nice hotel expensive park get good deal stay h...   \n",
       "1  ok nothing special charge diamond member hilto...   \n",
       "2  nice room not 4 experience hotel monaco seattl...   \n",
       "3  unique great stay wonderful time hotel monaco ...   \n",
       "4  great stay great stay go seahawk game awesome ...   \n",
       "\n",
       "                                       number_review  \n",
       "0  nice hotel expensive park get good deal stay h...  \n",
       "1  ok nothing special charge diamond member hilto...  \n",
       "2  nice room not experience hotel monaco seattle ...  \n",
       "3  unique great stay wonderful time hotel monaco ...  \n",
       "4  great stay great stay go seahawk game awesome ...  "
      ]
     },
<<<<<<< HEAD
     "execution_count": 29,
=======
     "execution_count": 83,
>>>>>>> b7feb2f2741c62e8dc4c892b2fbb2ea3ef11f1b3
     "metadata": {},
     "output_type": "execute_result"
    }
   ],
   "source": [
    "df.head()"
   ]
  },
  {
   "cell_type": "code",
<<<<<<< HEAD
   "execution_count": 30,
   "metadata": {},
   "outputs": [
    {
     "data": {
      "text/plain": [
       "<Axes: xlabel='Rating'>"
      ]
     },
     "execution_count": 30,
     "metadata": {},
     "output_type": "execute_result"
    },
    {
     "data": {
      "image/png": "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",
      "text/plain": [
       "<Figure size 640x480 with 1 Axes>"
      ]
     },
     "metadata": {},
     "output_type": "display_data"
    }
   ],
   "source": [
    "df['Rating'].value_counts().plot(kind='bar')"
   ]
  },
  {
   "cell_type": "code",
   "execution_count": 31,
=======
   "execution_count": 84,
>>>>>>> b7feb2f2741c62e8dc4c892b2fbb2ea3ef11f1b3
   "metadata": {},
   "outputs": [],
   "source": [
    "df.to_csv('Data/cleaned_hotel_reviews.csv', index=False)"
   ]
  }
 ],
 "metadata": {
  "kernelspec": {
   "display_name": "Python 3",
   "language": "python",
   "name": "python3"
  },
  "language_info": {
   "codemirror_mode": {
    "name": "ipython",
    "version": 3
   },
   "file_extension": ".py",
   "mimetype": "text/x-python",
   "name": "python",
   "nbconvert_exporter": "python",
   "pygments_lexer": "ipython3",
   "version": "3.10.2"
  }
 },
 "nbformat": 4,
 "nbformat_minor": 2
}
