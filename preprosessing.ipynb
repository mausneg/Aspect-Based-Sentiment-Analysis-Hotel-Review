{
 "cells": [
  {
   "cell_type": "markdown",
   "metadata": {},
   "source": [
    "# PREPROCESSING"
   ]
  },
  {
   "cell_type": "markdown",
   "metadata": {},
   "source": [
    "## GET DATA"
   ]
  },
  {
   "cell_type": "code",
   "execution_count": 1,
   "metadata": {},
   "outputs": [],
   "source": [
    "import spacy\n",
    "import pandas as pd\n",
    "import numpy as np\n",
    "import matplotlib.pyplot as plt\n",
    "from nltk.stem import LancasterStemmer\n",
    "import seaborn as sns\n",
    "import nltk\n",
    "import string\n",
    "import re\n",
    "from sklearn.utils import resample\n",
    "from nltk.corpus import stopwords"
   ]
  },
  {
   "cell_type": "code",
   "execution_count": 16,
   "metadata": {},
   "outputs": [
    {
     "name": "stderr",
     "output_type": "stream",
     "text": [
      "[nltk_data] Downloading package stopwords to\n",
      "[nltk_data]     C:\\Users\\ACER\\AppData\\Roaming\\nltk_data...\n",
      "[nltk_data]   Package stopwords is already up-to-date!\n",
      "[nltk_data] Downloading package wordnet to\n",
      "[nltk_data]     C:\\Users\\ACER\\AppData\\Roaming\\nltk_data...\n",
      "[nltk_data]   Package wordnet is already up-to-date!\n",
      "[nltk_data] Downloading package omw-1.4 to\n",
      "[nltk_data]     C:\\Users\\ACER\\AppData\\Roaming\\nltk_data...\n",
      "[nltk_data]   Package omw-1.4 is already up-to-date!\n"
     ]
    }
   ],
   "source": [
    "nltk.download('stopwords')\n",
    "nltk.download('wordnet')\n",
    "nltk.download('omw-1.4')\n",
    "nlp = spacy.load('en_core_web_lg')"
   ]
  },
  {
   "cell_type": "code",
   "execution_count": 33,
   "metadata": {},
   "outputs": [],
   "source": [
    "df = pd.read_csv('Data/tripadvisor_hotel_reviews.csv')"
   ]
  },
  {
   "cell_type": "code",
   "execution_count": 4,
   "metadata": {},
   "outputs": [
    {
     "data": {
      "text/html": [
       "<div>\n",
       "<style scoped>\n",
       "    .dataframe tbody tr th:only-of-type {\n",
       "        vertical-align: middle;\n",
       "    }\n",
       "\n",
       "    .dataframe tbody tr th {\n",
       "        vertical-align: top;\n",
       "    }\n",
       "\n",
       "    .dataframe thead th {\n",
       "        text-align: right;\n",
       "    }\n",
       "</style>\n",
       "<table border=\"1\" class=\"dataframe\">\n",
       "  <thead>\n",
       "    <tr style=\"text-align: right;\">\n",
       "      <th></th>\n",
       "      <th>Review</th>\n",
       "      <th>Rating</th>\n",
       "    </tr>\n",
       "  </thead>\n",
       "  <tbody>\n",
       "    <tr>\n",
       "      <th>0</th>\n",
       "      <td>nice hotel expensive parking got good deal sta...</td>\n",
       "      <td>4</td>\n",
       "    </tr>\n",
       "    <tr>\n",
       "      <th>1</th>\n",
       "      <td>ok nothing special charge diamond member hilto...</td>\n",
       "      <td>2</td>\n",
       "    </tr>\n",
       "    <tr>\n",
       "      <th>2</th>\n",
       "      <td>nice rooms not 4* experience hotel monaco seat...</td>\n",
       "      <td>3</td>\n",
       "    </tr>\n",
       "    <tr>\n",
       "      <th>3</th>\n",
       "      <td>unique, great stay, wonderful time hotel monac...</td>\n",
       "      <td>5</td>\n",
       "    </tr>\n",
       "    <tr>\n",
       "      <th>4</th>\n",
       "      <td>great stay great stay, went seahawk game aweso...</td>\n",
       "      <td>5</td>\n",
       "    </tr>\n",
       "  </tbody>\n",
       "</table>\n",
       "</div>"
      ],
      "text/plain": [
       "                                              Review  Rating\n",
       "0  nice hotel expensive parking got good deal sta...       4\n",
       "1  ok nothing special charge diamond member hilto...       2\n",
       "2  nice rooms not 4* experience hotel monaco seat...       3\n",
       "3  unique, great stay, wonderful time hotel monac...       5\n",
       "4  great stay great stay, went seahawk game aweso...       5"
      ]
     },
     "execution_count": 4,
     "metadata": {},
     "output_type": "execute_result"
    }
   ],
   "source": [
    "df.columns = ['Review', 'Rating']\n",
    "df.head()"
   ]
  },
  {
   "cell_type": "code",
   "execution_count": 5,
   "metadata": {},
   "outputs": [],
   "source": [
    "def encode_rating(rating):\n",
    "    if rating > 3:\n",
    "        return 'positive'\n",
    "    elif rating == 3:\n",
    "        return 'neutral'\n",
    "    else:\n",
    "        return 'negative'"
   ]
  },
  {
   "cell_type": "code",
   "execution_count": 6,
   "metadata": {},
   "outputs": [],
   "source": [
    "df['setiment'] = df['Rating'].apply(encode_rating)"
   ]
  },
  {
   "cell_type": "markdown",
   "metadata": {},
   "source": [
    "## DOWNSAMPLE"
   ]
  },
  {
   "cell_type": "code",
   "execution_count": 7,
   "metadata": {},
   "outputs": [
    {
     "data": {
      "text/plain": [
       "<Axes: xlabel='setiment'>"
      ]
     },
     "execution_count": 7,
     "metadata": {},
     "output_type": "execute_result"
    },
    {
     "data": {
      "image/png": "[encoded data removed]",
      "text/plain": [
       "<Figure size 640x480 with 1 Axes>"
      ]
     },
     "metadata": {},
     "output_type": "display_data"
    }
   ],
   "source": [
    "df['setiment'].value_counts().plot(kind='bar')"
   ]
  },
  {
   "cell_type": "code",
   "execution_count": 8,
   "metadata": {},
   "outputs": [
    {
     "data": {
      "text/plain": [
       "setiment\n",
       "positive    15093\n",
       "negative     3214\n",
       "neutral      2184\n",
       "Name: count, dtype: int64"
      ]
     },
     "execution_count": 8,
     "metadata": {},
     "output_type": "execute_result"
    }
   ],
   "source": [
    "df['setiment'].value_counts()"
   ]
  },
  {
   "cell_type": "code",
   "execution_count": 46,
   "metadata": {},
   "outputs": [],
   "source": [
    "# df_new = pd.DataFrame()\n",
    "# target_count = 1421\n",
    "\n",
    "# for rating, group in df.groupby('Rating'):\n",
    "#     if len(group) > target_count:\n",
    "#         ratings_new = resample(group, replace=False, n_samples=target_count, random_state=42)\n",
    "#     else:\n",
    "#         ratings_new = group\n",
    "#     df_new = pd.concat([df_new, ratings_new])\n",
    "\n",
    "# df = df_new.reset_index(drop=True)\n",
    "# df['Rating'].value_counts()"
   ]
  },
  {
   "cell_type": "markdown",
   "metadata": {},
   "source": [
    "## CLEANING"
   ]
  },
  {
   "cell_type": "code",
   "execution_count": 47,
   "metadata": {},
   "outputs": [],
   "source": [
    "def create_label(rating):\n",
    "    if rating > 3:\n",
    "        return 'positive'\n",
    "    elif rating < 3:\n",
    "        return 'negative'\n",
    "    else:\n",
    "        return 'neutral'"
   ]
  },
  {
   "cell_type": "code",
   "execution_count": 48,
   "metadata": {},
   "outputs": [],
   "source": [
    "def remove_punctuation(text):\n",
    "    text = ''.join([char if char not in string.punctuation else ' ' for char in text]).lower()\n",
    "    return text"
   ]
  },
  {
   "cell_type": "code",
   "execution_count": 49,
   "metadata": {},
   "outputs": [],
   "source": [
    "def additional_cleaning(text):\n",
    "    text = re.sub(r'\\bn t\\b', 'not', text)\n",
    "    text = re.sub(r'\\bnt\\b', 'not', text)\n",
    "    text = re.sub(r'\\bdidn t\\b', 'did not', text)\n",
    "    text = re.sub(r'\\bdidn\\b', 'did not', text)\n",
    "    text = re.sub(r'\\bdon t\\b', 'do not', text)\n",
    "    text = re.sub(r'\\bdon\\b', 'do not', text)\n",
    "    text = re.sub(r'[^\\x00-\\x7F]+', '', text)\n",
    "    return text\n"
   ]
  },
  {
   "cell_type": "code",
   "execution_count": 50,
   "metadata": {},
   "outputs": [],
   "source": [
    "df['label'] = df['Rating'].apply(lambda x: create_label(x))\n",
    "df['clean_punc'] = df['Review'].apply(lambda x: remove_punctuation(x)).apply(lambda x: additional_cleaning(x))"
   ]
  },
  {
   "cell_type": "code",
   "execution_count": 51,
   "metadata": {},
   "outputs": [
    {
     "data": {
      "text/html": [
       "<div>\n",
       "<style scoped>\n",
       "    .dataframe tbody tr th:only-of-type {\n",
       "        vertical-align: middle;\n",
       "    }\n",
       "\n",
       "    .dataframe tbody tr th {\n",
       "        vertical-align: top;\n",
       "    }\n",
       "\n",
       "    .dataframe thead th {\n",
       "        text-align: right;\n",
       "    }\n",
       "</style>\n",
       "<table border=\"1\" class=\"dataframe\">\n",
       "  <thead>\n",
       "    <tr style=\"text-align: right;\">\n",
       "      <th></th>\n",
       "      <th>Review</th>\n",
       "      <th>Rating</th>\n",
       "      <th>label</th>\n",
       "      <th>clean_punc</th>\n",
       "    </tr>\n",
       "  </thead>\n",
       "  <tbody>\n",
       "    <tr>\n",
       "      <th>0</th>\n",
       "      <td>nice hotel expensive parking got good deal sta...</td>\n",
       "      <td>4</td>\n",
       "      <td>positive</td>\n",
       "      <td>nice hotel expensive parking got good deal sta...</td>\n",
       "    </tr>\n",
       "    <tr>\n",
       "      <th>1</th>\n",
       "      <td>ok nothing special charge diamond member hilto...</td>\n",
       "      <td>2</td>\n",
       "      <td>negative</td>\n",
       "      <td>ok nothing special charge diamond member hilto...</td>\n",
       "    </tr>\n",
       "    <tr>\n",
       "      <th>2</th>\n",
       "      <td>nice rooms not 4* experience hotel monaco seat...</td>\n",
       "      <td>3</td>\n",
       "      <td>neutral</td>\n",
       "      <td>nice rooms not 4  experience hotel monaco seat...</td>\n",
       "    </tr>\n",
       "    <tr>\n",
       "      <th>3</th>\n",
       "      <td>unique, great stay, wonderful time hotel monac...</td>\n",
       "      <td>5</td>\n",
       "      <td>positive</td>\n",
       "      <td>unique  great stay  wonderful time hotel monac...</td>\n",
       "    </tr>\n",
       "    <tr>\n",
       "      <th>4</th>\n",
       "      <td>great stay great stay, went seahawk game aweso...</td>\n",
       "      <td>5</td>\n",
       "      <td>positive</td>\n",
       "      <td>great stay great stay  went seahawk game aweso...</td>\n",
       "    </tr>\n",
       "  </tbody>\n",
       "</table>\n",
       "</div>"
      ],
      "text/plain": [
       "                                              Review  Rating     label  \\\n",
       "0  nice hotel expensive parking got good deal sta...       4  positive   \n",
       "1  ok nothing special charge diamond member hilto...       2  negative   \n",
       "2  nice rooms not 4* experience hotel monaco seat...       3   neutral   \n",
       "3  unique, great stay, wonderful time hotel monac...       5  positive   \n",
       "4  great stay great stay, went seahawk game aweso...       5  positive   \n",
       "\n",
       "                                          clean_punc  \n",
       "0  nice hotel expensive parking got good deal sta...  \n",
       "1  ok nothing special charge diamond member hilto...  \n",
       "2  nice rooms not 4  experience hotel monaco seat...  \n",
       "3  unique  great stay  wonderful time hotel monac...  \n",
       "4  great stay great stay  went seahawk game aweso...  "
      ]
     },
     "execution_count": 51,
     "metadata": {},
     "output_type": "execute_result"
    }
   ],
   "source": [
    "df.head()"
   ]
  },
  {
   "cell_type": "markdown",
   "metadata": {},
   "source": [
    "## STOPWORD & LEMMATIZATION"
   ]
  },
  {
   "cell_type": "code",
   "execution_count": 52,
   "metadata": {},
   "outputs": [],
   "source": [
    "stopwords_list = stopwords.words('english')\n",
    "def remove_stopwords(text):\n",
    "    token_words = text.split()\n",
    "    filtered_words = []\n",
    "    for word in token_words:\n",
    "        if word not in stopwords_list:\n",
    "            filtered_words.append(word)\n",
    "    return ' '.join(filtered_words)"
   ]
  },
  {
   "cell_type": "code",
   "execution_count": 53,
   "metadata": {},
   "outputs": [],
   "source": [
    "def lemmatize_text(text):\n",
    "    doc = nlp(text)\n",
    "    lemmatized_text = \" \".join([token.lemma_ for token in doc])\n",
    "    return lemmatized_text"
   ]
  },
  {
   "cell_type": "code",
   "execution_count": 54,
   "metadata": {},
   "outputs": [],
   "source": [
    "def remove_token_with_word_and_number(text):\n",
    "    words = text.split()\n",
    "    filtered_words = []\n",
    "    for word in words:\n",
    "        if not any(char.isdigit() for char in word):\n",
    "            filtered_words.append(word)\n",
    "    return ' '.join(filtered_words)\n"
   ]
  },
  {
   "cell_type": "code",
   "execution_count": 55,
   "metadata": {},
   "outputs": [],
   "source": [
    "def perform_ner(text):\n",
    "    doc = nlp(text)\n",
    "    replaced_text = []\n",
    "    for token in doc:\n",
    "        if token.ent_type_:\n",
    "            replaced_text.append(token.ent_type_)\n",
    "        else:\n",
    "            replaced_text.append(token.text)\n",
    "    \n",
    "    return ' '.join(replaced_text)\n"
   ]
  },
  {
   "cell_type": "code",
   "execution_count": 56,
   "metadata": {},
   "outputs": [],
   "source": [
    "df['lemmatized_review'] = df['clean_punc'].apply(lambda x: lemmatize_text(x))\n",
    "df['number_review'] = df['lemmatized_review'].apply(lambda x: remove_token_with_word_and_number(x))"
   ]
  },
  {
   "cell_type": "code",
   "execution_count": 57,
   "metadata": {},
   "outputs": [],
   "source": [
    "df['ner_review'] = df['number_review'].apply(lambda x: perform_ner(x))"
   ]
  },
  {
   "cell_type": "code",
   "execution_count": 61,
   "metadata": {},
   "outputs": [
    {
     "name": "stdout",
     "output_type": "stream",
     "text": [
      "Original Review:\t great stay great stay, went seahawk game awesome, downfall view building did n't complain, room huge staff helpful, booked hotels website seahawk package, no charge parking got voucher taxi, problem taxi driver did n't want accept voucher barely spoke english, funny thing speak arabic called started making comments girlfriend cell phone buddy, took second realize just said fact speak language face priceless, ass told, said large city, told head doorman issue called cab company promply answer did n't, apologized offered pay taxi, bucks 2 miles stadium, game plan taxi return going humpin, great walk did n't mind, right christmas wonderful lights, homeless stowed away building entrances leave, police presence not greatest area stadium, activities 7 blocks pike street waterfront great coffee shops way, hotel mantained foyer awesome, wine tasting available evening, best dog, taking st. bernard time family, safes hotel located service desk room, bathroom huge jetted tub huge, funny house keeping walked girlfriend getting dressed, did n't hear knock doing turn service, screamed girlfriend screams hit floor laughing, started talking spanish worked, place recommend price, check online deals just good not better, besite contains deals vouchers travel websites n't tell,  \n",
      "Lemmatized Review:\t great stay great stay   go seahawk game awesome   downfall view building do not complain   room huge staff helpful   book hotel website seahawk package   no charge parking get voucher taxi   problem taxi driver do not want accept voucher barely speak english   funny thing speak arabic call start make comment girlfriend cell phone buddy   take second realize just say fact speak language face priceless   ass tell   say large city   tell head doorman issue call cab company promply answer do not   apologize offer pay taxi   buck 2 mile stadium   game plan taxi return go humpin   great walk do not mind   right christmas wonderful light   homeless stow away build entrance leave   police presence not great area stadium   activity 7 block pike street waterfront great coffee shop way   hotel mantained foyer awesome   wine tasting available evening   good dog   take st   bernard time family   safe hotel locate service desk room   bathroom huge jet tub huge   funny house keep walk girlfriend getting dress   do not hear knock do turn service   scream girlfriend scream hit floor laugh   start talk spanish work   place recommend price   check online deal just good not well   besite contain deal voucher travel website not tell   \n",
      "Token Number Review:\t great stay great stay go seahawk game awesome downfall view building do not complain room huge staff helpful book hotel website seahawk package no charge parking get voucher taxi problem taxi driver do not want accept voucher barely speak english funny thing speak arabic call start make comment girlfriend cell phone buddy take second realize just say fact speak language face priceless ass tell say large city tell head doorman issue call cab company promply answer do not apologize offer pay taxi buck mile stadium game plan taxi return go humpin great walk do not mind right christmas wonderful light homeless stow away build entrance leave police presence not great area stadium activity block pike street waterfront great coffee shop way hotel mantained foyer awesome wine tasting available evening good dog take st bernard time family safe hotel locate service desk room bathroom huge jet tub huge funny house keep walk girlfriend getting dress do not hear knock do turn service scream girlfriend scream hit floor laugh start talk spanish work place recommend price check online deal just good not well besite contain deal voucher travel website not tell\n",
      "Name Entity R Review:\t great stay great stay go ORG game awesome downfall view building do not complain room huge staff helpful book hotel website ORG package no charge parking get voucher taxi problem taxi driver do not want accept voucher barely speak LANGUAGE funny thing speak NORP call start make comment girlfriend cell phone buddy take ORDINAL realize just say fact speak language face priceless ass tell say large city tell head doorman issue call cab company promply answer do not apologize offer pay taxi QUANTITY QUANTITY stadium game plan taxi return go PERSON great walk do not mind right christmas wonderful light homeless stow away build entrance leave police presence not great area stadium activity block pike street waterfront great coffee shop way hotel FAC foyer awesome wine tasting available TIME good dog take PERSON PERSON time family safe hotel locate service desk room bathroom huge jet tub huge funny house keep walk girlfriend getting dress do not hear knock do turn service scream girlfriend scream hit floor laugh start talk NORP work place recommend price check online deal just good not well besite contain deal voucher travel website not tell\n"
     ]
    }
   ],
   "source": [
    "print('Original Review:\\t', df['Review'][4])\n",
    "print('Lemmatized Review:\\t', df['lemmatized_review'][4])\n",
    "print('Token Number Review:\\t', df['number_review'][4])\n",
    "print('Name Entity R Review:\\t', df['ner_review'][4])"
   ]
  },
  {
   "cell_type": "code",
   "execution_count": 59,
   "metadata": {},
   "outputs": [
    {
     "data": {
      "text/html": [
       "<div>\n",
       "<style scoped>\n",
       "    .dataframe tbody tr th:only-of-type {\n",
       "        vertical-align: middle;\n",
       "    }\n",
       "\n",
       "    .dataframe tbody tr th {\n",
       "        vertical-align: top;\n",
       "    }\n",
       "\n",
       "    .dataframe thead th {\n",
       "        text-align: right;\n",
       "    }\n",
       "</style>\n",
       "<table border=\"1\" class=\"dataframe\">\n",
       "  <thead>\n",
       "    <tr style=\"text-align: right;\">\n",
       "      <th></th>\n",
       "      <th>Review</th>\n",
       "      <th>Rating</th>\n",
       "      <th>label</th>\n",
       "      <th>clean_punc</th>\n",
       "      <th>lemmatized_review</th>\n",
       "      <th>number_review</th>\n",
       "      <th>ner_review</th>\n",
       "    </tr>\n",
       "  </thead>\n",
       "  <tbody>\n",
       "    <tr>\n",
       "      <th>0</th>\n",
       "      <td>nice hotel expensive parking got good deal sta...</td>\n",
       "      <td>4</td>\n",
       "      <td>positive</td>\n",
       "      <td>nice hotel expensive parking got good deal sta...</td>\n",
       "      <td>nice hotel expensive parking get good deal sta...</td>\n",
       "      <td>nice hotel expensive parking get good deal sta...</td>\n",
       "      <td>nice hotel expensive parking get good deal sta...</td>\n",
       "    </tr>\n",
       "    <tr>\n",
       "      <th>1</th>\n",
       "      <td>ok nothing special charge diamond member hilto...</td>\n",
       "      <td>2</td>\n",
       "      <td>negative</td>\n",
       "      <td>ok nothing special charge diamond member hilto...</td>\n",
       "      <td>ok nothing special charge diamond member hilto...</td>\n",
       "      <td>ok nothing special charge diamond member hilto...</td>\n",
       "      <td>ok nothing special charge diamond member PERSO...</td>\n",
       "    </tr>\n",
       "    <tr>\n",
       "      <th>2</th>\n",
       "      <td>nice rooms not 4* experience hotel monaco seat...</td>\n",
       "      <td>3</td>\n",
       "      <td>neutral</td>\n",
       "      <td>nice rooms not 4  experience hotel monaco seat...</td>\n",
       "      <td>nice room not 4   experience hotel monaco seat...</td>\n",
       "      <td>nice room not experience hotel monaco seattle ...</td>\n",
       "      <td>nice room not experience hotel monaco seattle ...</td>\n",
       "    </tr>\n",
       "    <tr>\n",
       "      <th>3</th>\n",
       "      <td>unique, great stay, wonderful time hotel monac...</td>\n",
       "      <td>5</td>\n",
       "      <td>positive</td>\n",
       "      <td>unique  great stay  wonderful time hotel monac...</td>\n",
       "      <td>unique   great stay   wonderful time hotel mon...</td>\n",
       "      <td>unique great stay wonderful time hotel monaco ...</td>\n",
       "      <td>unique great stay wonderful time ORG ORG locat...</td>\n",
       "    </tr>\n",
       "    <tr>\n",
       "      <th>4</th>\n",
       "      <td>great stay great stay, went seahawk game aweso...</td>\n",
       "      <td>5</td>\n",
       "      <td>positive</td>\n",
       "      <td>great stay great stay  went seahawk game aweso...</td>\n",
       "      <td>great stay great stay   go seahawk game awesom...</td>\n",
       "      <td>great stay great stay go seahawk game awesome ...</td>\n",
       "      <td>great stay great stay go ORG game awesome down...</td>\n",
       "    </tr>\n",
       "  </tbody>\n",
       "</table>\n",
       "</div>"
      ],
      "text/plain": [
       "                                              Review  Rating     label  \\\n",
       "0  nice hotel expensive parking got good deal sta...       4  positive   \n",
       "1  ok nothing special charge diamond member hilto...       2  negative   \n",
       "2  nice rooms not 4* experience hotel monaco seat...       3   neutral   \n",
       "3  unique, great stay, wonderful time hotel monac...       5  positive   \n",
       "4  great stay great stay, went seahawk game aweso...       5  positive   \n",
       "\n",
       "                                          clean_punc  \\\n",
       "0  nice hotel expensive parking got good deal sta...   \n",
       "1  ok nothing special charge diamond member hilto...   \n",
       "2  nice rooms not 4  experience hotel monaco seat...   \n",
       "3  unique  great stay  wonderful time hotel monac...   \n",
       "4  great stay great stay  went seahawk game aweso...   \n",
       "\n",
       "                                   lemmatized_review  \\\n",
       "0  nice hotel expensive parking get good deal sta...   \n",
       "1  ok nothing special charge diamond member hilto...   \n",
       "2  nice room not 4   experience hotel monaco seat...   \n",
       "3  unique   great stay   wonderful time hotel mon...   \n",
       "4  great stay great stay   go seahawk game awesom...   \n",
       "\n",
       "                                       number_review  \\\n",
       "0  nice hotel expensive parking get good deal sta...   \n",
       "1  ok nothing special charge diamond member hilto...   \n",
       "2  nice room not experience hotel monaco seattle ...   \n",
       "3  unique great stay wonderful time hotel monaco ...   \n",
       "4  great stay great stay go seahawk game awesome ...   \n",
       "\n",
       "                                          ner_review  \n",
       "0  nice hotel expensive parking get good deal sta...  \n",
       "1  ok nothing special charge diamond member PERSO...  \n",
       "2  nice room not experience hotel monaco seattle ...  \n",
       "3  unique great stay wonderful time ORG ORG locat...  \n",
       "4  great stay great stay go ORG game awesome down...  "
      ]
     },
     "execution_count": 59,
     "metadata": {},
     "output_type": "execute_result"
    }
   ],
   "source": [
    "df.head()"
   ]
  },
  {
   "cell_type": "code",
   "execution_count": 60,
   "metadata": {},
   "outputs": [],
   "source": [
    "df.to_csv('Data/cleaned_hotel_reviews.csv', index=False)"
   ]
  }
 ],
 "metadata": {
  "kernelspec": {
   "display_name": "Python 3",
   "language": "python",
   "name": "python3"
  },
  "language_info": {
   "codemirror_mode": {
    "name": "ipython",
    "version": 3
   },
   "file_extension": ".py",
   "mimetype": "text/x-python",
   "name": "python",
   "nbconvert_exporter": "python",
   "pygments_lexer": "ipython3",
   "version": "3.9.0"
  }
 },
 "nbformat": 4,
 "nbformat_minor": 2
}
