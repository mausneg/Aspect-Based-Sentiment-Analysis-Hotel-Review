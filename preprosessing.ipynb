{
 "cells": [
  {
   "cell_type": "markdown",
   "metadata": {},
   "source": [
    "## Data Loading"
   ]
  },
  {
   "cell_type": "code",
   "execution_count": 1,
   "metadata": {},
   "outputs": [
    {
     "name": "stderr",
     "output_type": "stream",
     "text": [
      "d:\\Surya\\Language Programming\\Python\\Aspect-Based-Sentiment-Analysis-Hotel-Reviews\\.venv\\lib\\site-packages\\tqdm\\auto.py:21: TqdmWarning: IProgress not found. Please update jupyter and ipywidgets. See https://ipywidgets.readthedocs.io/en/stable/user_install.html\n",
      "  from .autonotebook import tqdm as notebook_tqdm\n"
     ]
    }
   ],
   "source": [
    "import spacy\n",
    "import pandas as pd\n",
    "import numpy as np\n",
    "import matplotlib.pyplot as plt\n",
    "from nltk.stem import LancasterStemmer\n",
    "import seaborn as sns\n",
    "import nltk\n",
    "import string\n",
    "import re\n",
    "import seaborn as sns\n",
    "from sklearn.utils import resample\n",
    "from nltk.corpus import stopwords\n",
    "from langdetect import detect\n",
    "import contextualSpellCheck"
   ]
  },
  {
   "cell_type": "code",
   "execution_count": 2,
   "metadata": {},
   "outputs": [
    {
     "name": "stderr",
     "output_type": "stream",
     "text": [
      "[nltk_data] Downloading package stopwords to\n",
      "[nltk_data]     C:\\Users\\ACER\\AppData\\Roaming\\nltk_data...\n",
      "[nltk_data]   Package stopwords is already up-to-date!\n",
      "[nltk_data] Downloading package wordnet to\n",
      "[nltk_data]     C:\\Users\\ACER\\AppData\\Roaming\\nltk_data...\n",
      "[nltk_data]   Package wordnet is already up-to-date!\n",
      "[nltk_data] Downloading package omw-1.4 to\n",
      "[nltk_data]     C:\\Users\\ACER\\AppData\\Roaming\\nltk_data...\n",
      "[nltk_data]   Package omw-1.4 is already up-to-date!\n"
     ]
    },
    {
     "data": {
      "text/plain": [
       "True"
      ]
     },
     "execution_count": 2,
     "metadata": {},
     "output_type": "execute_result"
    }
   ],
   "source": [
    "nltk.download('stopwords')\n",
    "nltk.download('wordnet')\n",
    "nltk.download('omw-1.4')"
   ]
  },
  {
   "cell_type": "code",
   "execution_count": 3,
   "metadata": {},
   "outputs": [
    {
     "data": {
      "text/html": [
       "<div>\n",
       "<style scoped>\n",
       "    .dataframe tbody tr th:only-of-type {\n",
       "        vertical-align: middle;\n",
       "    }\n",
       "\n",
       "    .dataframe tbody tr th {\n",
       "        vertical-align: top;\n",
       "    }\n",
       "\n",
       "    .dataframe thead th {\n",
       "        text-align: right;\n",
       "    }\n",
       "</style>\n",
       "<table border=\"1\" class=\"dataframe\">\n",
       "  <thead>\n",
       "    <tr style=\"text-align: right;\">\n",
       "      <th></th>\n",
       "      <th>ratings_overall</th>\n",
       "      <th>title</th>\n",
       "      <th>text</th>\n",
       "    </tr>\n",
       "  </thead>\n",
       "  <tbody>\n",
       "    <tr>\n",
       "      <th>0</th>\n",
       "      <td>5.0</td>\n",
       "      <td>“Truly is \"Jewel of the Upper Wets Side\"”</td>\n",
       "      <td>Stayed in a king suite for 11 nights and yes i...</td>\n",
       "    </tr>\n",
       "    <tr>\n",
       "      <th>1</th>\n",
       "      <td>5.0</td>\n",
       "      <td>“My home away from home!”</td>\n",
       "      <td>On every visit to NYC, the Hotel Beacon is the...</td>\n",
       "    </tr>\n",
       "    <tr>\n",
       "      <th>2</th>\n",
       "      <td>4.0</td>\n",
       "      <td>“Great Stay”</td>\n",
       "      <td>This is a great property in Midtown. We two di...</td>\n",
       "    </tr>\n",
       "    <tr>\n",
       "      <th>3</th>\n",
       "      <td>4.0</td>\n",
       "      <td>“Modern Convenience”</td>\n",
       "      <td>The Andaz is a nice hotel in a central locatio...</td>\n",
       "    </tr>\n",
       "    <tr>\n",
       "      <th>4</th>\n",
       "      <td>4.0</td>\n",
       "      <td>“Its the best of the Andaz Brand in the US....”</td>\n",
       "      <td>I have stayed at each of the US Andaz properti...</td>\n",
       "    </tr>\n",
       "    <tr>\n",
       "      <th>...</th>\n",
       "      <td>...</td>\n",
       "      <td>...</td>\n",
       "      <td>...</td>\n",
       "    </tr>\n",
       "    <tr>\n",
       "      <th>878556</th>\n",
       "      <td>4.0</td>\n",
       "      <td>“vil komme igen”</td>\n",
       "      <td>Pænt hotel i et livligt miljø. Store værelser,...</td>\n",
       "    </tr>\n",
       "    <tr>\n",
       "      <th>878557</th>\n",
       "      <td>4.0</td>\n",
       "      <td>“excellent”</td>\n",
       "      <td>un excellent hotel 4 *, pour un prix raisonnab...</td>\n",
       "    </tr>\n",
       "    <tr>\n",
       "      <th>878558</th>\n",
       "      <td>5.0</td>\n",
       "      <td>“Un hotel eccezionale”</td>\n",
       "      <td>L'hotel, situato in una zona tranquilla e a du...</td>\n",
       "    </tr>\n",
       "    <tr>\n",
       "      <th>878559</th>\n",
       "      <td>5.0</td>\n",
       "      <td>“Gerne wieder”</td>\n",
       "      <td>Sehr schön ausgestattetes Hotel in bester Lage...</td>\n",
       "    </tr>\n",
       "    <tr>\n",
       "      <th>878560</th>\n",
       "      <td>4.0</td>\n",
       "      <td>“Nuevo... novísimo. Estupendo lugar.”</td>\n",
       "      <td>El hotel está entre el aeropuerto y Washington...</td>\n",
       "    </tr>\n",
       "  </tbody>\n",
       "</table>\n",
       "<p>878561 rows × 3 columns</p>\n",
       "</div>"
      ],
      "text/plain": [
       "        ratings_overall                                            title  \\\n",
       "0                   5.0        “Truly is \"Jewel of the Upper Wets Side\"”   \n",
       "1                   5.0                        “My home away from home!”   \n",
       "2                   4.0                                     “Great Stay”   \n",
       "3                   4.0                             “Modern Convenience”   \n",
       "4                   4.0  “Its the best of the Andaz Brand in the US....”   \n",
       "...                 ...                                              ...   \n",
       "878556              4.0                                 “vil komme igen”   \n",
       "878557              4.0                                      “excellent”   \n",
       "878558              5.0                           “Un hotel eccezionale”   \n",
       "878559              5.0                                   “Gerne wieder”   \n",
       "878560              4.0            “Nuevo... novísimo. Estupendo lugar.”   \n",
       "\n",
       "                                                     text  \n",
       "0       Stayed in a king suite for 11 nights and yes i...  \n",
       "1       On every visit to NYC, the Hotel Beacon is the...  \n",
       "2       This is a great property in Midtown. We two di...  \n",
       "3       The Andaz is a nice hotel in a central locatio...  \n",
       "4       I have stayed at each of the US Andaz properti...  \n",
       "...                                                   ...  \n",
       "878556  Pænt hotel i et livligt miljø. Store værelser,...  \n",
       "878557  un excellent hotel 4 *, pour un prix raisonnab...  \n",
       "878558  L'hotel, situato in una zona tranquilla e a du...  \n",
       "878559  Sehr schön ausgestattetes Hotel in bester Lage...  \n",
       "878560  El hotel está entre el aeropuerto y Washington...  \n",
       "\n",
       "[878561 rows x 3 columns]"
      ]
     },
     "execution_count": 3,
     "metadata": {},
     "output_type": "execute_result"
    }
   ],
   "source": [
    "df_data = pd.read_csv('Data/data_2/review.csv')\n",
    "df_data = df_data[['ratings_overall', 'title', 'text']]\n",
    "df_data"
   ]
  },
  {
   "cell_type": "markdown",
   "metadata": {},
   "source": [
    "## Exploratory Data Analysis"
   ]
  },
  {
   "cell_type": "code",
   "execution_count": 4,
   "metadata": {},
   "outputs": [
    {
     "name": "stdout",
     "output_type": "stream",
     "text": [
      "<class 'pandas.core.frame.DataFrame'>\n",
      "RangeIndex: 878561 entries, 0 to 878560\n",
      "Data columns (total 3 columns):\n",
      " #   Column           Non-Null Count   Dtype  \n",
      "---  ------           --------------   -----  \n",
      " 0   ratings_overall  878561 non-null  float64\n",
      " 1   title            878561 non-null  object \n",
      " 2   text             878561 non-null  object \n",
      "dtypes: float64(1), object(2)\n",
      "memory usage: 20.1+ MB\n"
     ]
    }
   ],
   "source": [
    "df_data.info()"
   ]
  },
  {
   "cell_type": "code",
   "execution_count": 5,
   "metadata": {},
   "outputs": [
    {
     "name": "stdout",
     "output_type": "stream",
     "text": [
      "duplicated\t 803\n",
      "ratings_overall    0\n",
      "title              0\n",
      "text               0\n",
      "dtype: int64\n"
     ]
    }
   ],
   "source": [
    "print('duplicated\\t', df_data.duplicated().sum())\n",
    "print(df_data.isnull().sum())"
   ]
  },
  {
   "cell_type": "code",
   "execution_count": 6,
   "metadata": {},
   "outputs": [
    {
     "data": {
      "text/html": [
       "<div>\n",
       "<style scoped>\n",
       "    .dataframe tbody tr th:only-of-type {\n",
       "        vertical-align: middle;\n",
       "    }\n",
       "\n",
       "    .dataframe tbody tr th {\n",
       "        vertical-align: top;\n",
       "    }\n",
       "\n",
       "    .dataframe thead th {\n",
       "        text-align: right;\n",
       "    }\n",
       "</style>\n",
       "<table border=\"1\" class=\"dataframe\">\n",
       "  <thead>\n",
       "    <tr style=\"text-align: right;\">\n",
       "      <th></th>\n",
       "      <th>ratings_overall</th>\n",
       "    </tr>\n",
       "  </thead>\n",
       "  <tbody>\n",
       "    <tr>\n",
       "      <th>count</th>\n",
       "      <td>878561.000000</td>\n",
       "    </tr>\n",
       "    <tr>\n",
       "      <th>mean</th>\n",
       "      <td>3.936228</td>\n",
       "    </tr>\n",
       "    <tr>\n",
       "      <th>std</th>\n",
       "      <td>1.165074</td>\n",
       "    </tr>\n",
       "    <tr>\n",
       "      <th>min</th>\n",
       "      <td>0.000000</td>\n",
       "    </tr>\n",
       "    <tr>\n",
       "      <th>25%</th>\n",
       "      <td>3.000000</td>\n",
       "    </tr>\n",
       "    <tr>\n",
       "      <th>50%</th>\n",
       "      <td>4.000000</td>\n",
       "    </tr>\n",
       "    <tr>\n",
       "      <th>75%</th>\n",
       "      <td>5.000000</td>\n",
       "    </tr>\n",
       "    <tr>\n",
       "      <th>max</th>\n",
       "      <td>5.000000</td>\n",
       "    </tr>\n",
       "  </tbody>\n",
       "</table>\n",
       "</div>"
      ],
      "text/plain": [
       "       ratings_overall\n",
       "count    878561.000000\n",
       "mean          3.936228\n",
       "std           1.165074\n",
       "min           0.000000\n",
       "25%           3.000000\n",
       "50%           4.000000\n",
       "75%           5.000000\n",
       "max           5.000000"
      ]
     },
     "execution_count": 6,
     "metadata": {},
     "output_type": "execute_result"
    }
   ],
   "source": [
    "df_data.describe()"
   ]
  },
  {
   "cell_type": "code",
   "execution_count": 7,
   "metadata": {},
   "outputs": [],
   "source": [
    "encoding = {\n",
    "    1: 'negative',\n",
    "    2: 'negative',\n",
    "    3: 'neutral',\n",
    "    4: 'positive',\n",
    "    5: 'positive'\n",
    "}"
   ]
  },
  {
   "cell_type": "code",
   "execution_count": 8,
   "metadata": {},
   "outputs": [],
   "source": [
    "df_data['label'] = df_data['ratings_overall'].map(encoding)"
   ]
  },
  {
   "cell_type": "code",
   "execution_count": 9,
   "metadata": {},
   "outputs": [
    {
     "data": {
      "text/plain": [
       "<Axes: xlabel='label'>"
      ]
     },
     "execution_count": 9,
     "metadata": {},
     "output_type": "execute_result"
    },
    {
     "data": {
      "image/png": "[encoded data removed]",
      "text/plain": [
       "<Figure size 640x480 with 1 Axes>"
      ]
     },
     "metadata": {},
     "output_type": "display_data"
    }
   ],
   "source": [
    "df_data['label'].value_counts().plot(kind='bar')"
   ]
  },
  {
   "cell_type": "code",
   "execution_count": 10,
   "metadata": {},
   "outputs": [
    {
     "data": {
      "text/plain": [
       "label\n",
       "positive    642046\n",
       "neutral     122565\n",
       "negative    113933\n",
       "Name: count, dtype: int64"
      ]
     },
     "execution_count": 10,
     "metadata": {},
     "output_type": "execute_result"
    }
   ],
   "source": [
    "df_data['label'].value_counts()"
   ]
  },
  {
   "cell_type": "code",
   "execution_count": 11,
   "metadata": {},
   "outputs": [
    {
     "data": {
      "text/plain": [
       "<Axes: ylabel='label'>"
      ]
     },
     "execution_count": 11,
     "metadata": {},
     "output_type": "execute_result"
    },
    {
     "data": {
      "image/png": "[encoded data removed]",
      "text/plain": [
       "<Figure size 640x480 with 1 Axes>"
      ]
     },
     "metadata": {},
     "output_type": "display_data"
    }
   ],
   "source": [
    "sns.boxplot(df_data['label'])"
   ]
  },
  {
   "cell_type": "markdown",
   "metadata": {},
   "source": [
    "## Data Preprocessing"
   ]
  },
  {
   "cell_type": "code",
   "execution_count": 12,
   "metadata": {},
   "outputs": [
    {
     "data": {
      "text/plain": [
       "0"
      ]
     },
     "execution_count": 12,
     "metadata": {},
     "output_type": "execute_result"
    }
   ],
   "source": [
    "df_data.drop_duplicates(inplace=True)\n",
    "df_data.duplicated().sum()"
   ]
  },
  {
   "cell_type": "code",
   "execution_count": 13,
   "metadata": {},
   "outputs": [
    {
     "data": {
      "text/plain": [
       "label\n",
       "negative    53834\n",
       "neutral     53834\n",
       "positive    53834\n",
       "Name: count, dtype: int64"
      ]
     },
     "execution_count": 13,
     "metadata": {},
     "output_type": "execute_result"
    }
   ],
   "source": [
    "df_new = pd.DataFrame()\n",
    "target_count = 53834\n",
    "\n",
    "for rating, group in df_data.groupby('label'):\n",
    "    if len(group) > target_count:\n",
    "        ratings_new = resample(group, replace=False, n_samples=target_count, random_state=42)\n",
    "    else:\n",
    "        ratings_new = group\n",
    "    df_new = pd.concat([df_new, ratings_new])\n",
    "\n",
    "df_data = df_new.reset_index(drop=True)\n",
    "df_data['label'].value_counts()"
   ]
  },
  {
   "cell_type": "code",
   "execution_count": 14,
   "metadata": {},
   "outputs": [],
   "source": [
    "df_data['text'] = df_data['title'] + ' ' + df_data['text']\n",
    "df_data = df_data[['ratings_overall', 'text', 'label']]"
   ]
  },
  {
   "cell_type": "code",
   "execution_count": 15,
   "metadata": {},
   "outputs": [],
   "source": [
    "def language_detection(text):\n",
    "    try:\n",
    "        return detect(text)\n",
    "    except:\n",
    "        return 'other'"
   ]
  },
  {
   "cell_type": "code",
   "execution_count": 16,
   "metadata": {},
   "outputs": [
    {
     "data": {
      "text/html": [
       "<div>\n",
       "<style scoped>\n",
       "    .dataframe tbody tr th:only-of-type {\n",
       "        vertical-align: middle;\n",
       "    }\n",
       "\n",
       "    .dataframe tbody tr th {\n",
       "        vertical-align: top;\n",
       "    }\n",
       "\n",
       "    .dataframe thead th {\n",
       "        text-align: right;\n",
       "    }\n",
       "</style>\n",
       "<table border=\"1\" class=\"dataframe\">\n",
       "  <thead>\n",
       "    <tr style=\"text-align: right;\">\n",
       "      <th></th>\n",
       "      <th>ratings_overall</th>\n",
       "      <th>text</th>\n",
       "      <th>label</th>\n",
       "      <th>language</th>\n",
       "    </tr>\n",
       "  </thead>\n",
       "  <tbody>\n",
       "    <tr>\n",
       "      <th>0</th>\n",
       "      <td>2.0</td>\n",
       "      <td>“Near Airport with Good Shuttle Service” Staye...</td>\n",
       "      <td>negative</td>\n",
       "      <td>en</td>\n",
       "    </tr>\n",
       "    <tr>\n",
       "      <th>1</th>\n",
       "      <td>1.0</td>\n",
       "      <td>“Gets a low ranking for a reason...” I've few ...</td>\n",
       "      <td>negative</td>\n",
       "      <td>en</td>\n",
       "    </tr>\n",
       "    <tr>\n",
       "      <th>2</th>\n",
       "      <td>2.0</td>\n",
       "      <td>“Budget hotel pretending to be a resort” The H...</td>\n",
       "      <td>negative</td>\n",
       "      <td>en</td>\n",
       "    </tr>\n",
       "    <tr>\n",
       "      <th>3</th>\n",
       "      <td>1.0</td>\n",
       "      <td>“Dish out a few extra bucks and stay elsewhere...</td>\n",
       "      <td>negative</td>\n",
       "      <td>en</td>\n",
       "    </tr>\n",
       "    <tr>\n",
       "      <th>4</th>\n",
       "      <td>2.0</td>\n",
       "      <td>“L.A. on a budget” The Good: Lowest cost for a...</td>\n",
       "      <td>negative</td>\n",
       "      <td>en</td>\n",
       "    </tr>\n",
       "    <tr>\n",
       "      <th>...</th>\n",
       "      <td>...</td>\n",
       "      <td>...</td>\n",
       "      <td>...</td>\n",
       "      <td>...</td>\n",
       "    </tr>\n",
       "    <tr>\n",
       "      <th>161497</th>\n",
       "      <td>5.0</td>\n",
       "      <td>“Fantastic mid range hotel (u won't find bette...</td>\n",
       "      <td>positive</td>\n",
       "      <td>en</td>\n",
       "    </tr>\n",
       "    <tr>\n",
       "      <th>161498</th>\n",
       "      <td>4.0</td>\n",
       "      <td>“Fantastic Service” All the staff that I encou...</td>\n",
       "      <td>positive</td>\n",
       "      <td>en</td>\n",
       "    </tr>\n",
       "    <tr>\n",
       "      <th>161499</th>\n",
       "      <td>4.0</td>\n",
       "      <td>“A great find” We stayed here for a weekend. P...</td>\n",
       "      <td>positive</td>\n",
       "      <td>en</td>\n",
       "    </tr>\n",
       "    <tr>\n",
       "      <th>161500</th>\n",
       "      <td>4.0</td>\n",
       "      <td>“Convenient location for the airport” We staye...</td>\n",
       "      <td>positive</td>\n",
       "      <td>en</td>\n",
       "    </tr>\n",
       "    <tr>\n",
       "      <th>161501</th>\n",
       "      <td>4.0</td>\n",
       "      <td>“Best bed I have ever slept in” We stayed here...</td>\n",
       "      <td>positive</td>\n",
       "      <td>en</td>\n",
       "    </tr>\n",
       "  </tbody>\n",
       "</table>\n",
       "<p>161502 rows × 4 columns</p>\n",
       "</div>"
      ],
      "text/plain": [
       "        ratings_overall                                               text  \\\n",
       "0                   2.0  “Near Airport with Good Shuttle Service” Staye...   \n",
       "1                   1.0  “Gets a low ranking for a reason...” I've few ...   \n",
       "2                   2.0  “Budget hotel pretending to be a resort” The H...   \n",
       "3                   1.0  “Dish out a few extra bucks and stay elsewhere...   \n",
       "4                   2.0  “L.A. on a budget” The Good: Lowest cost for a...   \n",
       "...                 ...                                                ...   \n",
       "161497              5.0  “Fantastic mid range hotel (u won't find bette...   \n",
       "161498              4.0  “Fantastic Service” All the staff that I encou...   \n",
       "161499              4.0  “A great find” We stayed here for a weekend. P...   \n",
       "161500              4.0  “Convenient location for the airport” We staye...   \n",
       "161501              4.0  “Best bed I have ever slept in” We stayed here...   \n",
       "\n",
       "           label language  \n",
       "0       negative       en  \n",
       "1       negative       en  \n",
       "2       negative       en  \n",
       "3       negative       en  \n",
       "4       negative       en  \n",
       "...          ...      ...  \n",
       "161497  positive       en  \n",
       "161498  positive       en  \n",
       "161499  positive       en  \n",
       "161500  positive       en  \n",
       "161501  positive       en  \n",
       "\n",
       "[161502 rows x 4 columns]"
      ]
     },
     "execution_count": 16,
     "metadata": {},
     "output_type": "execute_result"
    }
   ],
   "source": [
    "df_data['language'] = df_data['text'].apply(language_detection)\n",
    "df_data"
   ]
  },
  {
   "cell_type": "code",
   "execution_count": 17,
   "metadata": {},
   "outputs": [],
   "source": [
    "df_data = df_data[df_data['language'] == 'en']"
   ]
  },
  {
   "cell_type": "code",
   "execution_count": 18,
   "metadata": {},
   "outputs": [],
   "source": [
    "def remove_punctuation(text):\n",
    "    text = ''.join([char if char not in string.punctuation else ' ' for char in text]).lower()\n",
    "    return text"
   ]
  },
  {
   "cell_type": "code",
   "execution_count": 19,
   "metadata": {},
   "outputs": [],
   "source": [
    "def additional_cleaning(text):\n",
    "    replacements = {\n",
    "        'n t': 'not',\n",
    "        'nt': 'not',\n",
    "        'didn t': 'did not',\n",
    "        'didn': 'did not',\n",
    "        'don t': 'do not',\n",
    "        'don': 'do not',\n",
    "        'doesn t': 'does not',\n",
    "        'doesn': 'does not',\n",
    "        'hasn t': 'has not',\n",
    "        'hasn': 'has not',\n",
    "        'haven t': 'have not',\n",
    "        'haven': 'have not',\n",
    "        'hadn t': 'had not',\n",
    "        'hadn': 'had not',\n",
    "        'won t': 'will not',\n",
    "        'won': 'will not',\n",
    "        'wouldn t': 'would not',\n",
    "        'wouldn': 'would not',\n",
    "        'can t': 'can not',\n",
    "        'can': 'can not',\n",
    "        'couldn t': 'could not',\n",
    "        'couldn': 'could not',\n",
    "        'shouldn t': 'should not',\n",
    "        'shouldn': 'should not',\n",
    "        'aren t': 'are not',\n",
    "        'aren': 'are not',\n",
    "        'ain t': 'am not',\n",
    "        'ain': 'am not',\n",
    "        'isn t': 'is not',\n",
    "        'isn': 'is not',\n",
    "        'wasn t': 'was not',\n",
    "        'wasn': 'was not',\n",
    "        'were t': 'were not',\n",
    "        'were': 'were not',\n",
    "        'weren t': 'were not',\n",
    "        'weren': 'were not',\n",
    "        'what s': 'what is',\n",
    "        'what': 'what is',\n",
    "        'who s': 'who is',\n",
    "        'who': 'who is',\n",
    "        'where s': 'where is',\n",
    "        'where': 'where is',\n",
    "        'when s': 'when is',\n",
    "        'when': 'when is',\n",
    "        'why s': 'why is',\n",
    "        'why': 'why is',\n",
    "        'how s': 'how is',\n",
    "        'how': 'how is',\n",
    "        'll': 'will',\n",
    "        've': 'have',\n",
    "        're': 'are',\n",
    "        'm': 'am',\n",
    "        'em': 'them',\n",
    "        'thats': 'that is',\n",
    "        'that s': 'that is'\n",
    "    }\n",
    "    for old, new in replacements.items():\n",
    "        text = re.sub(r'\\b' + old + r'\\b', new, text)\n",
    "\n",
    "    text = re.sub(r'[^\\x00-\\x7F]+', '', text)\n",
    "\n",
    "    return text"
   ]
  },
  {
   "cell_type": "code",
   "execution_count": 20,
   "metadata": {},
   "outputs": [
    {
     "name": "stderr",
     "output_type": "stream",
     "text": [
      "C:\\Users\\ACER\\AppData\\Local\\Temp\\ipykernel_2212\\3814134040.py:1: SettingWithCopyWarning: \n",
      "A value is trying to be set on a copy of a slice from a DataFrame.\n",
      "Try using .loc[row_indexer,col_indexer] = value instead\n",
      "\n",
      "See the caveats in the documentation: https://pandas.pydata.org/pandas-docs/stable/user_guide/indexing.html#returning-a-view-versus-a-copy\n",
      "  df_data['clean_punc'] = df_data['text'].apply(lambda x: remove_punctuation(x)).apply(lambda x: additional_cleaning(x))\n"
     ]
    }
   ],
   "source": [
    "df_data['clean_punc'] = df_data['text'].apply(lambda x: remove_punctuation(x)).apply(lambda x: additional_cleaning(x))"
   ]
  },
  {
   "cell_type": "code",
   "execution_count": 21,
   "metadata": {},
   "outputs": [],
   "source": [
    "nlp = spacy.load('en_core_web_lg')"
   ]
  },
  {
   "cell_type": "code",
   "execution_count": 22,
   "metadata": {},
   "outputs": [
    {
     "data": {
      "text/html": [
       "<div>\n",
       "<style scoped>\n",
       "    .dataframe tbody tr th:only-of-type {\n",
       "        vertical-align: middle;\n",
       "    }\n",
       "\n",
       "    .dataframe tbody tr th {\n",
       "        vertical-align: top;\n",
       "    }\n",
       "\n",
       "    .dataframe thead th {\n",
       "        text-align: right;\n",
       "    }\n",
       "</style>\n",
       "<table border=\"1\" class=\"dataframe\">\n",
       "  <thead>\n",
       "    <tr style=\"text-align: right;\">\n",
       "      <th></th>\n",
       "      <th>ratings_overall</th>\n",
       "      <th>text</th>\n",
       "      <th>label</th>\n",
       "      <th>language</th>\n",
       "      <th>clean_punc</th>\n",
       "    </tr>\n",
       "  </thead>\n",
       "  <tbody>\n",
       "    <tr>\n",
       "      <th>0</th>\n",
       "      <td>2.0</td>\n",
       "      <td>“Near Airport with Good Shuttle Service” Staye...</td>\n",
       "      <td>negative</td>\n",
       "      <td>en</td>\n",
       "      <td>near airport with good shuttle service stayed ...</td>\n",
       "    </tr>\n",
       "    <tr>\n",
       "      <th>1</th>\n",
       "      <td>1.0</td>\n",
       "      <td>“Gets a low ranking for a reason...” I've few ...</td>\n",
       "      <td>negative</td>\n",
       "      <td>en</td>\n",
       "      <td>gets a low ranking for a reason    i have few ...</td>\n",
       "    </tr>\n",
       "    <tr>\n",
       "      <th>2</th>\n",
       "      <td>2.0</td>\n",
       "      <td>“Budget hotel pretending to be a resort” The H...</td>\n",
       "      <td>negative</td>\n",
       "      <td>en</td>\n",
       "      <td>budget hotel pretending to be a resort the han...</td>\n",
       "    </tr>\n",
       "    <tr>\n",
       "      <th>3</th>\n",
       "      <td>1.0</td>\n",
       "      <td>“Dish out a few extra bucks and stay elsewhere...</td>\n",
       "      <td>negative</td>\n",
       "      <td>en</td>\n",
       "      <td>dish out a few extra bucks and stay elsewhere ...</td>\n",
       "    </tr>\n",
       "    <tr>\n",
       "      <th>4</th>\n",
       "      <td>2.0</td>\n",
       "      <td>“L.A. on a budget” The Good: Lowest cost for a...</td>\n",
       "      <td>negative</td>\n",
       "      <td>en</td>\n",
       "      <td>l a  on a budget the good  lowest cost for a b...</td>\n",
       "    </tr>\n",
       "  </tbody>\n",
       "</table>\n",
       "</div>"
      ],
      "text/plain": [
       "   ratings_overall                                               text  \\\n",
       "0              2.0  “Near Airport with Good Shuttle Service” Staye...   \n",
       "1              1.0  “Gets a low ranking for a reason...” I've few ...   \n",
       "2              2.0  “Budget hotel pretending to be a resort” The H...   \n",
       "3              1.0  “Dish out a few extra bucks and stay elsewhere...   \n",
       "4              2.0  “L.A. on a budget” The Good: Lowest cost for a...   \n",
       "\n",
       "      label language                                         clean_punc  \n",
       "0  negative       en  near airport with good shuttle service stayed ...  \n",
       "1  negative       en  gets a low ranking for a reason    i have few ...  \n",
       "2  negative       en  budget hotel pretending to be a resort the han...  \n",
       "3  negative       en  dish out a few extra bucks and stay elsewhere ...  \n",
       "4  negative       en  l a  on a budget the good  lowest cost for a b...  "
      ]
     },
     "execution_count": 22,
     "metadata": {},
     "output_type": "execute_result"
    }
   ],
   "source": [
    "df_data.head()"
   ]
  },
  {
   "cell_type": "code",
   "execution_count": 23,
   "metadata": {},
   "outputs": [],
   "source": [
    "stopwords_list = stopwords.words('english')\n",
    "def remove_stopwords(text):\n",
    "    token_words = text.split()\n",
    "    filtered_words = []\n",
    "    for word in token_words:\n",
    "        if word not in stopwords_list:\n",
    "            filtered_words.append(word)\n",
    "    return ' '.join(filtered_words)"
   ]
  },
  {
   "cell_type": "code",
   "execution_count": 24,
   "metadata": {},
   "outputs": [],
   "source": [
    "def lemmatize_text(texts):\n",
    "    lemmatized_texts = []\n",
    "    for doc in nlp.pipe(texts, n_process=6,batch_size=1000):\n",
    "        lemmatized_text = \" \".join([token.lemma_ for token in doc])\n",
    "        lemmatized_texts.append(lemmatized_text)\n",
    "    return lemmatized_texts"
   ]
  },
  {
   "cell_type": "code",
   "execution_count": 25,
   "metadata": {},
   "outputs": [],
   "source": [
    "def remove_token_with_word_and_number(text):\n",
    "    words = text.split()\n",
    "    filtered_words = []\n",
    "    for word in words:\n",
    "        if not any(char.isdigit() for char in word):\n",
    "            filtered_words.append(word)\n",
    "    return ' '.join(filtered_words)\n"
   ]
  },
  {
   "cell_type": "code",
   "execution_count": 26,
   "metadata": {},
   "outputs": [],
   "source": [
    "def perform_ner(texts):\n",
    "    replaced_texts = []\n",
    "    for doc in nlp.pipe(texts, n_process=6, batch_size=1000):\n",
    "        replaced_text = []\n",
    "        for token in doc:\n",
    "            if token.ent_type_:\n",
    "                replaced_text.append(token.ent_type_)\n",
    "            else:\n",
    "                replaced_text.append(token.text)\n",
    "        replaced_texts.append(' '.join(replaced_text))\n",
    "    \n",
    "    return replaced_texts"
   ]
  },
  {
   "cell_type": "code",
   "execution_count": 28,
   "metadata": {},
   "outputs": [
    {
     "name": "stderr",
     "output_type": "stream",
     "text": [
      "C:\\Users\\ACER\\AppData\\Local\\Temp\\ipykernel_2212\\2368988799.py:1: SettingWithCopyWarning: \n",
      "A value is trying to be set on a copy of a slice from a DataFrame.\n",
      "Try using .loc[row_indexer,col_indexer] = value instead\n",
      "\n",
      "See the caveats in the documentation: https://pandas.pydata.org/pandas-docs/stable/user_guide/indexing.html#returning-a-view-versus-a-copy\n",
      "  df_data['lemmatized_review'] = lemmatize_text(df_data['clean_punc'])\n",
      "C:\\Users\\ACER\\AppData\\Local\\Temp\\ipykernel_2212\\2368988799.py:2: SettingWithCopyWarning: \n",
      "A value is trying to be set on a copy of a slice from a DataFrame.\n",
      "Try using .loc[row_indexer,col_indexer] = value instead\n",
      "\n",
      "See the caveats in the documentation: https://pandas.pydata.org/pandas-docs/stable/user_guide/indexing.html#returning-a-view-versus-a-copy\n",
      "  df_data['number_review'] = df_data['lemmatized_review'].apply(lambda x: remove_token_with_word_and_number(x))\n"
     ]
    }
   ],
   "source": [
    "df_data['lemmatized_review'] = lemmatize_text(df_data['clean_punc'])\n",
    "df_data['number_review'] = df_data['lemmatized_review'].apply(lambda x: remove_token_with_word_and_number(x))"
   ]
  },
  {
   "cell_type": "code",
   "execution_count": 29,
   "metadata": {},
   "outputs": [
    {
     "name": "stderr",
     "output_type": "stream",
     "text": [
      "C:\\Users\\ACER\\AppData\\Local\\Temp\\ipykernel_2212\\2839222559.py:1: SettingWithCopyWarning: \n",
      "A value is trying to be set on a copy of a slice from a DataFrame.\n",
      "Try using .loc[row_indexer,col_indexer] = value instead\n",
      "\n",
      "See the caveats in the documentation: https://pandas.pydata.org/pandas-docs/stable/user_guide/indexing.html#returning-a-view-versus-a-copy\n",
      "  df_data['ner_review'] = perform_ner(df_data['number_review'])\n"
     ]
    }
   ],
   "source": [
    "df_data['ner_review'] = perform_ner(df_data['number_review'])"
   ]
  },
  {
   "cell_type": "code",
   "execution_count": 30,
   "metadata": {},
   "outputs": [
    {
     "name": "stdout",
     "output_type": "stream",
     "text": [
      "Original Review:\t “L.A. on a budget” The Good: Lowest cost for a branded hotel near downtown; very large selection of TV channels; refrigerator & iron with full-size board in room.\n",
      "The Bad: Ants in room; no coffee or microwave in room; questionable neighborhood; ridiculously tiny space at sink-had to use refrigerator to hold shaver, toothbrush & a few other sundries; restaurant did not look appetizing & had very limited menu (did not use).\n",
      "The Ugly: VERY noisy due to sound coming through PTAC; rod was compression style & kept falling; water flow at sink was nearly non-existent; breakfast was 2 cold cereals, tang, coffee, & an open loaf of bread for toast.\n",
      "Lemmatized Review:\t l a   on a budget the good   low cost for a brand hotel near downtown   very large selection of tv channel   refrigerator    iron with full size board in room \n",
      " the bad   ant in room   no coffee or microwave in room   questionable neighborhood   ridiculously tiny space at sink have to use refrigerator to hold shaver   toothbrush    a few other sundrie   restaurant do not look appetize    have very limited menu   do not use  \n",
      " the ugly   very noisy due to sound come through ptac   rod be compression style    keep fall   water flow at sink be nearly non existent   breakfast be 2 cold cereal   tang   coffee     an open loaf of bread for toast\n",
      "Token Number Review:\t l a on a budget the good low cost for a brand hotel near downtown very large selection of tv channel refrigerator iron with full size board in room the bad ant in room no coffee or microwave in room questionable neighborhood ridiculously tiny space at sink have to use refrigerator to hold shaver toothbrush a few other sundrie restaurant do not look appetize have very limited menu do not use the ugly very noisy due to sound come through ptac rod be compression style keep fall water flow at sink be nearly non existent breakfast be cold cereal tang coffee an open loaf of bread for toast\n",
      "Name Entity R Review:\t l a on a budget the good low cost for a brand hotel near downtown very large selection of tv channel refrigerator iron with full size board in room the bad ant in room no coffee or microwave in room questionable neighborhood ridiculously tiny space at sink have to use refrigerator to hold shaver toothbrush a few other sundrie restaurant do not look appetize have very limited menu do not use the ugly very noisy due to sound come through ptac rod be compression style keep fall water flow at sink be nearly non existent breakfast be cold cereal tang coffee an open loaf of bread for toast\n"
     ]
    }
   ],
   "source": [
    "print('Original Review:\\t', df_data['text'][4])\n",
    "print('Lemmatized Review:\\t', df_data['lemmatized_review'][4])\n",
    "print('Token Number Review:\\t', df_data['number_review'][4])\n",
    "print('Name Entity R Review:\\t', df_data['ner_review'][4])"
   ]
  },
  {
   "cell_type": "code",
   "execution_count": 31,
   "metadata": {},
   "outputs": [
    {
     "data": {
      "text/html": [
       "<div>\n",
       "<style scoped>\n",
       "    .dataframe tbody tr th:only-of-type {\n",
       "        vertical-align: middle;\n",
       "    }\n",
       "\n",
       "    .dataframe tbody tr th {\n",
       "        vertical-align: top;\n",
       "    }\n",
       "\n",
       "    .dataframe thead th {\n",
       "        text-align: right;\n",
       "    }\n",
       "</style>\n",
       "<table border=\"1\" class=\"dataframe\">\n",
       "  <thead>\n",
       "    <tr style=\"text-align: right;\">\n",
       "      <th></th>\n",
       "      <th>ratings_overall</th>\n",
       "      <th>text</th>\n",
       "      <th>label</th>\n",
       "      <th>language</th>\n",
       "      <th>clean_punc</th>\n",
       "      <th>lemmatized_review</th>\n",
       "      <th>number_review</th>\n",
       "      <th>ner_review</th>\n",
       "    </tr>\n",
       "  </thead>\n",
       "  <tbody>\n",
       "    <tr>\n",
       "      <th>0</th>\n",
       "      <td>2.0</td>\n",
       "      <td>“Near Airport with Good Shuttle Service” Staye...</td>\n",
       "      <td>negative</td>\n",
       "      <td>en</td>\n",
       "      <td>near airport with good shuttle service stayed ...</td>\n",
       "      <td>near airport with good shuttle service stay he...</td>\n",
       "      <td>near airport with good shuttle service stay he...</td>\n",
       "      <td>near airport with good shuttle service stay he...</td>\n",
       "    </tr>\n",
       "    <tr>\n",
       "      <th>1</th>\n",
       "      <td>1.0</td>\n",
       "      <td>“Gets a low ranking for a reason...” I've few ...</td>\n",
       "      <td>negative</td>\n",
       "      <td>en</td>\n",
       "      <td>gets a low ranking for a reason    i have few ...</td>\n",
       "      <td>get a low ranking for a reason     I have few ...</td>\n",
       "      <td>get a low ranking for a reason I have few posi...</td>\n",
       "      <td>get a low ranking for a reason I have few posi...</td>\n",
       "    </tr>\n",
       "    <tr>\n",
       "      <th>2</th>\n",
       "      <td>2.0</td>\n",
       "      <td>“Budget hotel pretending to be a resort” The H...</td>\n",
       "      <td>negative</td>\n",
       "      <td>en</td>\n",
       "      <td>budget hotel pretending to be a resort the han...</td>\n",
       "      <td>budget hotel pretend to be a resort the hanale...</td>\n",
       "      <td>budget hotel pretend to be a resort the hanale...</td>\n",
       "      <td>budget hotel pretend to be a resort the hanale...</td>\n",
       "    </tr>\n",
       "    <tr>\n",
       "      <th>3</th>\n",
       "      <td>1.0</td>\n",
       "      <td>“Dish out a few extra bucks and stay elsewhere...</td>\n",
       "      <td>negative</td>\n",
       "      <td>en</td>\n",
       "      <td>dish out a few extra bucks and stay elsewhere ...</td>\n",
       "      <td>dish out a few extra buck and stay elsewhere t...</td>\n",
       "      <td>dish out a few extra buck and stay elsewhere t...</td>\n",
       "      <td>dish out a few extra buck and stay elsewhere t...</td>\n",
       "    </tr>\n",
       "    <tr>\n",
       "      <th>4</th>\n",
       "      <td>2.0</td>\n",
       "      <td>“L.A. on a budget” The Good: Lowest cost for a...</td>\n",
       "      <td>negative</td>\n",
       "      <td>en</td>\n",
       "      <td>l a  on a budget the good  lowest cost for a b...</td>\n",
       "      <td>l a   on a budget the good   low cost for a br...</td>\n",
       "      <td>l a on a budget the good low cost for a brand ...</td>\n",
       "      <td>l a on a budget the good low cost for a brand ...</td>\n",
       "    </tr>\n",
       "  </tbody>\n",
       "</table>\n",
       "</div>"
      ],
      "text/plain": [
       "   ratings_overall                                               text  \\\n",
       "0              2.0  “Near Airport with Good Shuttle Service” Staye...   \n",
       "1              1.0  “Gets a low ranking for a reason...” I've few ...   \n",
       "2              2.0  “Budget hotel pretending to be a resort” The H...   \n",
       "3              1.0  “Dish out a few extra bucks and stay elsewhere...   \n",
       "4              2.0  “L.A. on a budget” The Good: Lowest cost for a...   \n",
       "\n",
       "      label language                                         clean_punc  \\\n",
       "0  negative       en  near airport with good shuttle service stayed ...   \n",
       "1  negative       en  gets a low ranking for a reason    i have few ...   \n",
       "2  negative       en  budget hotel pretending to be a resort the han...   \n",
       "3  negative       en  dish out a few extra bucks and stay elsewhere ...   \n",
       "4  negative       en  l a  on a budget the good  lowest cost for a b...   \n",
       "\n",
       "                                   lemmatized_review  \\\n",
       "0  near airport with good shuttle service stay he...   \n",
       "1  get a low ranking for a reason     I have few ...   \n",
       "2  budget hotel pretend to be a resort the hanale...   \n",
       "3  dish out a few extra buck and stay elsewhere t...   \n",
       "4  l a   on a budget the good   low cost for a br...   \n",
       "\n",
       "                                       number_review  \\\n",
       "0  near airport with good shuttle service stay he...   \n",
       "1  get a low ranking for a reason I have few posi...   \n",
       "2  budget hotel pretend to be a resort the hanale...   \n",
       "3  dish out a few extra buck and stay elsewhere t...   \n",
       "4  l a on a budget the good low cost for a brand ...   \n",
       "\n",
       "                                          ner_review  \n",
       "0  near airport with good shuttle service stay he...  \n",
       "1  get a low ranking for a reason I have few posi...  \n",
       "2  budget hotel pretend to be a resort the hanale...  \n",
       "3  dish out a few extra buck and stay elsewhere t...  \n",
       "4  l a on a budget the good low cost for a brand ...  "
      ]
     },
     "execution_count": 31,
     "metadata": {},
     "output_type": "execute_result"
    }
   ],
   "source": [
    "df_data.head()"
   ]
  },
  {
   "cell_type": "code",
   "execution_count": 32,
   "metadata": {},
   "outputs": [],
   "source": [
    "df_data = df_data[['ner_review', 'ratings_overall', 'label']]\n",
    "df_data.columns = ['text', 'rating', 'label']"
   ]
  },
  {
   "cell_type": "code",
   "execution_count": 34,
   "metadata": {},
   "outputs": [],
   "source": [
    "df_data.to_csv('Data/data_2/clean_review_160k.csv', index=False)"
   ]
  },
  {
   "cell_type": "code",
   "execution_count": null,
   "metadata": {},
   "outputs": [],
   "source": []
  }
 ],
 "metadata": {
  "kernelspec": {
   "display_name": "Python 3",
   "language": "python",
   "name": "python3"
  },
  "language_info": {
   "codemirror_mode": {
    "name": "ipython",
    "version": 3
   },
   "file_extension": ".py",
   "mimetype": "text/x-python",
   "name": "python",
   "nbconvert_exporter": "python",
   "pygments_lexer": "ipython3",
   "version": "3.9.0"
  }
 },
 "nbformat": 4,
 "nbformat_minor": 2
}
