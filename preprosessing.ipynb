{
 "cells": [
  {
   "cell_type": "markdown",
   "metadata": {},
   "source": [
    "## Data Loading"
   ]
  },
  {
   "cell_type": "markdown",
   "metadata": {},
   "source": [
    "Sumber dataset: \n",
    "- [Kaggle (2020) - 20k](https://www.kaggle.com/datasets/andrewmvd/trip-advisor-hotel-reviews)\n",
    "- [Carnegie Mellon University - 800k](https://www.cs.cmu.edu/~jiweil/html/hotel-review.html)"
   ]
  },
  {
   "cell_type": "markdown",
   "metadata": {},
   "source": [
    "Melakukan import library yang dibutuhkan dan memuat dataset yang akan digunakan."
   ]
  },
  {
   "cell_type": "code",
   "execution_count": 4,
   "metadata": {},
   "outputs": [],
   "source": [
    "import spacy\n",
    "import pandas as pd\n",
    "import numpy as np\n",
    "import matplotlib.pyplot as plt\n",
    "from nltk.stem import LancasterStemmer\n",
    "import seaborn as sns\n",
    "import nltk\n",
    "import string\n",
    "import re\n",
    "import seaborn as sns\n",
    "from sklearn.utils import resample\n",
    "from nltk.corpus import stopwords\n",
    "from langdetect import detect\n",
    "from vaderSentiment.vaderSentiment import SentimentIntensityAnalyzer\n",
    "from concurrent.futures import ThreadPoolExecutor, ProcessPoolExecutor\n",
    "from textblob import TextBlob\n",
    "from IPython.display import clear_output"
   ]
  },
  {
   "cell_type": "code",
   "execution_count": 5,
   "metadata": {},
   "outputs": [
    {
     "name": "stderr",
     "output_type": "stream",
     "text": [
      "[nltk_data] Downloading package stopwords to\n",
      "[nltk_data]     C:\\Users\\ACER\\AppData\\Roaming\\nltk_data...\n",
      "[nltk_data]   Package stopwords is already up-to-date!\n",
      "[nltk_data] Downloading package wordnet to\n",
      "[nltk_data]     C:\\Users\\ACER\\AppData\\Roaming\\nltk_data...\n",
      "[nltk_data]   Package wordnet is already up-to-date!\n",
      "[nltk_data] Downloading package omw-1.4 to\n",
      "[nltk_data]     C:\\Users\\ACER\\AppData\\Roaming\\nltk_data...\n",
      "[nltk_data]   Package omw-1.4 is already up-to-date!\n"
     ]
    },
    {
     "data": {
      "text/plain": [
       "True"
      ]
     },
     "execution_count": 5,
     "metadata": {},
     "output_type": "execute_result"
    }
   ],
   "source": [
    "nltk.download('stopwords')\n",
    "nltk.download('wordnet')\n",
    "nltk.download('omw-1.4')"
   ]
  },
  {
   "cell_type": "code",
   "execution_count": 3,
   "metadata": {},
   "outputs": [
    {
     "data": {
      "text/html": [
       "<div>\n",
       "<style scoped>\n",
       "    .dataframe tbody tr th:only-of-type {\n",
       "        vertical-align: middle;\n",
       "    }\n",
       "\n",
       "    .dataframe tbody tr th {\n",
       "        vertical-align: top;\n",
       "    }\n",
       "\n",
       "    .dataframe thead th {\n",
       "        text-align: right;\n",
       "    }\n",
       "</style>\n",
       "<table border=\"1\" class=\"dataframe\">\n",
       "  <thead>\n",
       "    <tr style=\"text-align: right;\">\n",
       "      <th></th>\n",
       "      <th>ratings_overall</th>\n",
       "      <th>title</th>\n",
       "      <th>text</th>\n",
       "    </tr>\n",
       "  </thead>\n",
       "  <tbody>\n",
       "    <tr>\n",
       "      <th>0</th>\n",
       "      <td>5.0</td>\n",
       "      <td>“Truly is \"Jewel of the Upper Wets Side\"”</td>\n",
       "      <td>Stayed in a king suite for 11 nights and yes i...</td>\n",
       "    </tr>\n",
       "    <tr>\n",
       "      <th>1</th>\n",
       "      <td>5.0</td>\n",
       "      <td>“My home away from home!”</td>\n",
       "      <td>On every visit to NYC, the Hotel Beacon is the...</td>\n",
       "    </tr>\n",
       "    <tr>\n",
       "      <th>2</th>\n",
       "      <td>4.0</td>\n",
       "      <td>“Great Stay”</td>\n",
       "      <td>This is a great property in Midtown. We two di...</td>\n",
       "    </tr>\n",
       "    <tr>\n",
       "      <th>3</th>\n",
       "      <td>4.0</td>\n",
       "      <td>“Modern Convenience”</td>\n",
       "      <td>The Andaz is a nice hotel in a central locatio...</td>\n",
       "    </tr>\n",
       "    <tr>\n",
       "      <th>4</th>\n",
       "      <td>4.0</td>\n",
       "      <td>“Its the best of the Andaz Brand in the US....”</td>\n",
       "      <td>I have stayed at each of the US Andaz properti...</td>\n",
       "    </tr>\n",
       "    <tr>\n",
       "      <th>...</th>\n",
       "      <td>...</td>\n",
       "      <td>...</td>\n",
       "      <td>...</td>\n",
       "    </tr>\n",
       "    <tr>\n",
       "      <th>878556</th>\n",
       "      <td>4.0</td>\n",
       "      <td>“vil komme igen”</td>\n",
       "      <td>Pænt hotel i et livligt miljø. Store værelser,...</td>\n",
       "    </tr>\n",
       "    <tr>\n",
       "      <th>878557</th>\n",
       "      <td>4.0</td>\n",
       "      <td>“excellent”</td>\n",
       "      <td>un excellent hotel 4 *, pour un prix raisonnab...</td>\n",
       "    </tr>\n",
       "    <tr>\n",
       "      <th>878558</th>\n",
       "      <td>5.0</td>\n",
       "      <td>“Un hotel eccezionale”</td>\n",
       "      <td>L'hotel, situato in una zona tranquilla e a du...</td>\n",
       "    </tr>\n",
       "    <tr>\n",
       "      <th>878559</th>\n",
       "      <td>5.0</td>\n",
       "      <td>“Gerne wieder”</td>\n",
       "      <td>Sehr schön ausgestattetes Hotel in bester Lage...</td>\n",
       "    </tr>\n",
       "    <tr>\n",
       "      <th>878560</th>\n",
       "      <td>4.0</td>\n",
       "      <td>“Nuevo... novísimo. Estupendo lugar.”</td>\n",
       "      <td>El hotel está entre el aeropuerto y Washington...</td>\n",
       "    </tr>\n",
       "  </tbody>\n",
       "</table>\n",
       "<p>878561 rows × 3 columns</p>\n",
       "</div>"
      ],
      "text/plain": [
       "        ratings_overall                                            title  \\\n",
       "0                   5.0        “Truly is \"Jewel of the Upper Wets Side\"”   \n",
       "1                   5.0                        “My home away from home!”   \n",
       "2                   4.0                                     “Great Stay”   \n",
       "3                   4.0                             “Modern Convenience”   \n",
       "4                   4.0  “Its the best of the Andaz Brand in the US....”   \n",
       "...                 ...                                              ...   \n",
       "878556              4.0                                 “vil komme igen”   \n",
       "878557              4.0                                      “excellent”   \n",
       "878558              5.0                           “Un hotel eccezionale”   \n",
       "878559              5.0                                   “Gerne wieder”   \n",
       "878560              4.0            “Nuevo... novísimo. Estupendo lugar.”   \n",
       "\n",
       "                                                     text  \n",
       "0       Stayed in a king suite for 11 nights and yes i...  \n",
       "1       On every visit to NYC, the Hotel Beacon is the...  \n",
       "2       This is a great property in Midtown. We two di...  \n",
       "3       The Andaz is a nice hotel in a central locatio...  \n",
       "4       I have stayed at each of the US Andaz properti...  \n",
       "...                                                   ...  \n",
       "878556  Pænt hotel i et livligt miljø. Store værelser,...  \n",
       "878557  un excellent hotel 4 *, pour un prix raisonnab...  \n",
       "878558  L'hotel, situato in una zona tranquilla e a du...  \n",
       "878559  Sehr schön ausgestattetes Hotel in bester Lage...  \n",
       "878560  El hotel está entre el aeropuerto y Washington...  \n",
       "\n",
       "[878561 rows x 3 columns]"
      ]
     },
     "execution_count": 3,
     "metadata": {},
     "output_type": "execute_result"
    }
   ],
   "source": [
    "df_data = pd.read_csv('Data/data_2/review.csv')\n",
    "df_data = df_data[['ratings_overall', 'title', 'text']]\n",
    "df_data"
   ]
  },
  {
   "cell_type": "markdown",
   "metadata": {},
   "source": [
    "## Exploratory Data Analysis"
   ]
  },
  {
   "cell_type": "code",
   "execution_count": 6,
   "metadata": {},
   "outputs": [
    {
     "name": "stdout",
     "output_type": "stream",
     "text": [
      "<class 'pandas.core.frame.DataFrame'>\n",
      "RangeIndex: 878561 entries, 0 to 878560\n",
      "Data columns (total 3 columns):\n",
      " #   Column           Non-Null Count   Dtype  \n",
      "---  ------           --------------   -----  \n",
      " 0   ratings_overall  878561 non-null  float64\n",
      " 1   title            878561 non-null  object \n",
      " 2   text             878561 non-null  object \n",
      "dtypes: float64(1), object(2)\n",
      "memory usage: 20.1+ MB\n"
     ]
    }
   ],
   "source": [
    "df_data.info()"
   ]
  },
  {
   "cell_type": "code",
   "execution_count": 7,
   "metadata": {},
   "outputs": [
    {
     "name": "stdout",
     "output_type": "stream",
     "text": [
      "duplicated\t 803\n",
      "ratings_overall    0\n",
      "title              0\n",
      "text               0\n",
      "dtype: int64\n"
     ]
    }
   ],
   "source": [
    "print('duplicated\\t', df_data.duplicated().sum())\n",
    "print(df_data.isnull().sum())"
   ]
  },
  {
   "cell_type": "code",
   "execution_count": 8,
   "metadata": {},
   "outputs": [
    {
     "data": {
      "text/html": [
       "<div>\n",
       "<style scoped>\n",
       "    .dataframe tbody tr th:only-of-type {\n",
       "        vertical-align: middle;\n",
       "    }\n",
       "\n",
       "    .dataframe tbody tr th {\n",
       "        vertical-align: top;\n",
       "    }\n",
       "\n",
       "    .dataframe thead th {\n",
       "        text-align: right;\n",
       "    }\n",
       "</style>\n",
       "<table border=\"1\" class=\"dataframe\">\n",
       "  <thead>\n",
       "    <tr style=\"text-align: right;\">\n",
       "      <th></th>\n",
       "      <th>ratings_overall</th>\n",
       "    </tr>\n",
       "  </thead>\n",
       "  <tbody>\n",
       "    <tr>\n",
       "      <th>count</th>\n",
       "      <td>878561.000000</td>\n",
       "    </tr>\n",
       "    <tr>\n",
       "      <th>mean</th>\n",
       "      <td>3.936228</td>\n",
       "    </tr>\n",
       "    <tr>\n",
       "      <th>std</th>\n",
       "      <td>1.165074</td>\n",
       "    </tr>\n",
       "    <tr>\n",
       "      <th>min</th>\n",
       "      <td>0.000000</td>\n",
       "    </tr>\n",
       "    <tr>\n",
       "      <th>25%</th>\n",
       "      <td>3.000000</td>\n",
       "    </tr>\n",
       "    <tr>\n",
       "      <th>50%</th>\n",
       "      <td>4.000000</td>\n",
       "    </tr>\n",
       "    <tr>\n",
       "      <th>75%</th>\n",
       "      <td>5.000000</td>\n",
       "    </tr>\n",
       "    <tr>\n",
       "      <th>max</th>\n",
       "      <td>5.000000</td>\n",
       "    </tr>\n",
       "  </tbody>\n",
       "</table>\n",
       "</div>"
      ],
      "text/plain": [
       "       ratings_overall\n",
       "count    878561.000000\n",
       "mean          3.936228\n",
       "std           1.165074\n",
       "min           0.000000\n",
       "25%           3.000000\n",
       "50%           4.000000\n",
       "75%           5.000000\n",
       "max           5.000000"
      ]
     },
     "execution_count": 8,
     "metadata": {},
     "output_type": "execute_result"
    }
   ],
   "source": [
    "df_data.describe()"
   ]
  },
  {
   "cell_type": "code",
   "execution_count": 9,
   "metadata": {},
   "outputs": [],
   "source": [
    "def language_detection_single(text):\n",
    "    try:\n",
    "        return detect(text)\n",
    "    except:\n",
    "        return 'other'\n",
    "    \n",
    "def language_detection(texts, n_jobs=1):\n",
    "    with ThreadPoolExecutor(max_workers=n_jobs) as executor:\n",
    "        languages = list(executor.map(language_detection_single, texts))\n",
    "    return languages"
   ]
  },
  {
   "cell_type": "code",
   "execution_count": 10,
   "metadata": {},
   "outputs": [
    {
     "data": {
      "text/plain": [
       "language\n",
       "en       770972\n",
       "de        27051\n",
       "fr        24990\n",
       "it        20327\n",
       "es        14170\n",
       "ja         6014\n",
       "pt         4534\n",
       "nl         3264\n",
       "sv         2973\n",
       "da         1671\n",
       "no         1394\n",
       "zh-cn       528\n",
       "ru          281\n",
       "tr          110\n",
       "af          104\n",
       "pl           51\n",
       "ko           38\n",
       "el           20\n",
       "th           15\n",
       "ca           15\n",
       "zh-tw         9\n",
       "so            8\n",
       "id            5\n",
       "ro            4\n",
       "vi            4\n",
       "sl            2\n",
       "other         2\n",
       "fi            1\n",
       "sq            1\n",
       "ar            1\n",
       "hu            1\n",
       "lv            1\n",
       "Name: count, dtype: int64"
      ]
     },
     "execution_count": 10,
     "metadata": {},
     "output_type": "execute_result"
    }
   ],
   "source": [
    "df_data['language'] = language_detection(df_data['text'], n_jobs=6)\n",
    "df_data.value_counts('language')"
   ]
  },
  {
   "cell_type": "code",
   "execution_count": 11,
   "metadata": {},
   "outputs": [],
   "source": [
    "df_data = df_data[df_data['language'] == 'en']"
   ]
  },
  {
   "cell_type": "code",
   "execution_count": 12,
   "metadata": {},
   "outputs": [],
   "source": [
    "analyzer = SentimentIntensityAnalyzer()"
   ]
  },
  {
   "cell_type": "code",
   "execution_count": 13,
   "metadata": {},
   "outputs": [],
   "source": [
    "def sentiment_analyzer_scores_single(sentence):\n",
    "    score = analyzer.polarity_scores(sentence)\n",
    "    if score['compound'] >= 0.5:\n",
    "        return 'positive'\n",
    "    elif score['compound'] <= -0.5:\n",
    "        return 'negative'\n",
    "    else:\n",
    "        return 'neutral'\n",
    "\n",
    "def sentiment_analyzer_scores(sentences, n_jobs=1):\n",
    "    with ThreadPoolExecutor(max_workers=n_jobs) as executor:\n",
    "        sentiments = list(executor.map(sentiment_analyzer_scores_single, sentences))\n",
    "    return sentiments"
   ]
  },
  {
   "cell_type": "code",
   "execution_count": 14,
   "metadata": {},
   "outputs": [],
   "source": [
    "# df_data['label'] = sentiment_analyzer_scores(df_data['text'], n_jobs=6)"
   ]
  },
  {
   "cell_type": "code",
   "execution_count": 16,
   "metadata": {},
   "outputs": [
    {
     "name": "stderr",
     "output_type": "stream",
     "text": [
      "C:\\Users\\ACER\\AppData\\Local\\Temp\\ipykernel_10216\\3399446719.py:1: SettingWithCopyWarning: \n",
      "A value is trying to be set on a copy of a slice from a DataFrame.\n",
      "Try using .loc[row_indexer,col_indexer] = value instead\n",
      "\n",
      "See the caveats in the documentation: https://pandas.pydata.org/pandas-docs/stable/user_guide/indexing.html#returning-a-view-versus-a-copy\n",
      "  df_data['label'] = df_data['ratings_overall'].apply(lambda x: 'positive' if x >= 4 else ('neutral' if x == 3 else 'negative'))\n"
     ]
    }
   ],
   "source": [
    "df_data['label'] = df_data['ratings_overall'].apply(lambda x: 'positive' if x >= 4 else ('neutral' if x == 3 else 'negative'))"
   ]
  },
  {
   "cell_type": "code",
   "execution_count": 17,
   "metadata": {},
   "outputs": [
    {
     "data": {
      "text/plain": [
       "<Axes: xlabel='label'>"
      ]
     },
     "execution_count": 17,
     "metadata": {},
     "output_type": "execute_result"
    },
    {
     "data": {
      "image/png": "[encoded data removed]",
      "text/plain": [
       "<Figure size 640x480 with 1 Axes>"
      ]
     },
     "metadata": {},
     "output_type": "display_data"
    }
   ],
   "source": [
    "df_data['label'].value_counts().plot(kind='bar')"
   ]
  },
  {
   "cell_type": "code",
   "execution_count": 18,
   "metadata": {},
   "outputs": [
    {
     "data": {
      "text/plain": [
       "label\n",
       "positive    563997\n",
       "neutral     103740\n",
       "negative    103235\n",
       "Name: count, dtype: int64"
      ]
     },
     "execution_count": 18,
     "metadata": {},
     "output_type": "execute_result"
    }
   ],
   "source": [
    "df_data['label'].value_counts()"
   ]
  },
  {
   "cell_type": "markdown",
   "metadata": {},
   "source": [
    "## Data Preprocessing"
   ]
  },
  {
   "cell_type": "markdown",
   "metadata": {},
   "source": [
    "### Remove Duplicate Data"
   ]
  },
  {
   "cell_type": "code",
   "execution_count": 19,
   "metadata": {},
   "outputs": [
    {
     "name": "stderr",
     "output_type": "stream",
     "text": [
      "C:\\Users\\ACER\\AppData\\Local\\Temp\\ipykernel_10216\\4057778840.py:1: SettingWithCopyWarning: \n",
      "A value is trying to be set on a copy of a slice from a DataFrame\n",
      "\n",
      "See the caveats in the documentation: https://pandas.pydata.org/pandas-docs/stable/user_guide/indexing.html#returning-a-view-versus-a-copy\n",
      "  df_data.drop_duplicates(inplace=True)\n"
     ]
    },
    {
     "data": {
      "text/plain": [
       "0"
      ]
     },
     "execution_count": 19,
     "metadata": {},
     "output_type": "execute_result"
    }
   ],
   "source": [
    "df_data.drop_duplicates(inplace=True)\n",
    "df_data.duplicated().sum()"
   ]
  },
  {
   "cell_type": "markdown",
   "metadata": {},
   "source": [
    "### Downsample Data"
   ]
  },
  {
   "cell_type": "code",
   "execution_count": 20,
   "metadata": {},
   "outputs": [
    {
     "data": {
      "text/plain": [
       "label\n",
       "neutral     103233\n",
       "positive    103233\n",
       "negative    103225\n",
       "Name: count, dtype: int64"
      ]
     },
     "execution_count": 20,
     "metadata": {},
     "output_type": "execute_result"
    }
   ],
   "source": [
    "df_new = pd.DataFrame()\n",
    "target_count = 103233\n",
    "\n",
    "for rating, group in df_data.groupby('label'):\n",
    "    if len(group) > target_count:\n",
    "        ratings_new = resample(group, replace=False, n_samples=target_count, random_state=42)\n",
    "    else:\n",
    "        ratings_new = group\n",
    "    df_new = pd.concat([df_new, ratings_new])\n",
    "\n",
    "df_data = df_new.reset_index(drop=True)\n",
    "df_data['label'].value_counts()"
   ]
  },
  {
   "cell_type": "code",
   "execution_count": 21,
   "metadata": {},
   "outputs": [],
   "source": [
    "df_data['text'] = df_data['title'] + ' ' + df_data['text']\n",
    "df_data = df_data[['text', 'label']]"
   ]
  },
  {
   "cell_type": "markdown",
   "metadata": {},
   "source": [
    "### Remove Special Character and Additional Cleaning"
   ]
  },
  {
   "cell_type": "code",
   "execution_count": 22,
   "metadata": {},
   "outputs": [],
   "source": [
    "def remove_punctuation(text):\n",
    "    text = ''.join([char if char not in string.punctuation else ' ' for char in text]).lower()\n",
    "    return text"
   ]
  },
  {
   "cell_type": "code",
   "execution_count": 23,
   "metadata": {},
   "outputs": [],
   "source": [
    "def additional_cleaning(text):\n",
    "    replacements = {\n",
    "        'n t': 'not',\n",
    "        'nt': 'not',\n",
    "        'didn t': 'did not',\n",
    "        'didn': 'did not',\n",
    "        'don t': 'do not',\n",
    "        'don': 'do not',\n",
    "        'doesn t': 'does not',\n",
    "        'doesn': 'does not',\n",
    "        'hasn t': 'has not',\n",
    "        'hasn': 'has not',\n",
    "        'haven t': 'have not',\n",
    "        'haven': 'have not',\n",
    "        'hadn t': 'had not',\n",
    "        'hadn': 'had not',\n",
    "        'won t': 'will not',\n",
    "        'won': 'will not',\n",
    "        'wouldn t': 'would not',\n",
    "        'wouldn': 'would not',\n",
    "        'can t': 'can not',\n",
    "        'can': 'can not',\n",
    "        'couldn t': 'could not',\n",
    "        'couldn': 'could not',\n",
    "        'shouldn t': 'should not',\n",
    "        'shouldn': 'should not',\n",
    "        'aren t': 'are not',\n",
    "        'aren': 'are not',\n",
    "        'ain t': 'am not',\n",
    "        'ain': 'am not',\n",
    "        'isn t': 'is not',\n",
    "        'isn': 'is not',\n",
    "        'wasn t': 'was not',\n",
    "        'wasn': 'was not',\n",
    "        'were t': 'were not',\n",
    "        'were': 'were not',\n",
    "        'weren t': 'were not',\n",
    "        'weren': 'were not',\n",
    "        'what s': 'what is',\n",
    "        'what': 'what is',\n",
    "        'who s': 'who is',\n",
    "        'who': 'who is',\n",
    "        'where s': 'where is',\n",
    "        'where': 'where is',\n",
    "        'when s': 'when is',\n",
    "        'when': 'when is',\n",
    "        'why s': 'why is',\n",
    "        'why': 'why is',\n",
    "        'how s': 'how is',\n",
    "        'how': 'how is',\n",
    "        'll': 'will',\n",
    "        've': 'have',\n",
    "        're': 'are',\n",
    "        'm': 'am',\n",
    "        'em': 'them',\n",
    "        'thats': 'that is',\n",
    "        'that s': 'that is'\n",
    "    }\n",
    "    for old, new in replacements.items():\n",
    "        text = re.sub(r'\\b' + old + r'\\b', new, text)\n",
    "\n",
    "    text = re.sub(r'[^\\x00-\\x7F]+', '', text)\n",
    "\n",
    "    return text"
   ]
  },
  {
   "cell_type": "code",
   "execution_count": 24,
   "metadata": {},
   "outputs": [],
   "source": [
    "df_data['text'] = df_data['text'].apply(lambda x: remove_punctuation(x)).apply(lambda x: additional_cleaning(x))"
   ]
  },
  {
   "cell_type": "markdown",
   "metadata": {},
   "source": [
    "### Word Correction"
   ]
  },
  {
   "cell_type": "code",
   "execution_count": 25,
   "metadata": {},
   "outputs": [],
   "source": [
    "def word_correction_single(index, text):\n",
    "    corrected_text = str(TextBlob(text).correct())\n",
    "    print(f\"{index} done.\")\n",
    "    clear_output(wait=True)\n",
    "    return corrected_text\n",
    "\n",
    "def word_correction(texts, n_jobs=1):\n",
    "    with ThreadPoolExecutor(max_workers=n_jobs) as executor:\n",
    "        corrected_texts = list(executor.map(word_correction_single, range(len(texts)), texts))\n",
    "    return corrected_texts"
   ]
  },
  {
   "cell_type": "code",
   "execution_count": 26,
   "metadata": {},
   "outputs": [],
   "source": [
    "# df_data['clean_punc'] = word_correction(df_data['clean_punc'], n_jobs=6)"
   ]
  },
  {
   "cell_type": "markdown",
   "metadata": {},
   "source": [
    "### Stopwords Removal\n"
   ]
  },
  {
   "cell_type": "code",
   "execution_count": 27,
   "metadata": {},
   "outputs": [],
   "source": [
    "stopwords_list = stopwords.words('english')\n",
    "def remove_stopwords_single(text):\n",
    "    token_words = text.split()\n",
    "    filtered_words = []\n",
    "    for word in token_words:\n",
    "        if word not in stopwords_list:\n",
    "            filtered_words.append(word)\n",
    "    return ' '.join(filtered_words)\n",
    "\n",
    "def remove_stopwords(texts, n_jobs=1):\n",
    "    with ThreadPoolExecutor(max_workers=n_jobs) as executor:\n",
    "        filtered_texts = list(executor.map(remove_stopwords_single, texts))\n",
    "    return filtered_texts"
   ]
  },
  {
   "cell_type": "code",
   "execution_count": 28,
   "metadata": {},
   "outputs": [],
   "source": [
    "df_data['text'] = remove_stopwords(df_data['text'], n_jobs=6)"
   ]
  },
  {
   "cell_type": "markdown",
   "metadata": {},
   "source": [
    "### Lemmatization"
   ]
  },
  {
   "cell_type": "code",
   "execution_count": 29,
   "metadata": {},
   "outputs": [],
   "source": [
    "nlp = spacy.load('en_core_web_lg')"
   ]
  },
  {
   "cell_type": "code",
   "execution_count": 30,
   "metadata": {},
   "outputs": [],
   "source": [
    "def lemmatize_text(texts):\n",
    "    lemmatized_texts = []\n",
    "    for doc in nlp.pipe(texts, n_process=6,batch_size=1000):\n",
    "        lemmatized_text = \" \".join([token.lemma_ for token in doc])\n",
    "        lemmatized_texts.append(lemmatized_text)\n",
    "    return lemmatized_texts"
   ]
  },
  {
   "cell_type": "code",
   "execution_count": 31,
   "metadata": {},
   "outputs": [],
   "source": [
    "df_data['text'] = lemmatize_text(df_data['text'])"
   ]
  },
  {
   "cell_type": "markdown",
   "metadata": {},
   "source": [
    "### Remove Word-Number Combination"
   ]
  },
  {
   "cell_type": "code",
   "execution_count": 32,
   "metadata": {},
   "outputs": [],
   "source": [
    "def remove_token_with_word_and_number(text):\n",
    "    words = text.split()\n",
    "    filtered_words = []\n",
    "    for word in words:\n",
    "        if not any(char.isdigit() for char in word):\n",
    "            filtered_words.append(word)\n",
    "    return ' '.join(filtered_words)\n"
   ]
  },
  {
   "cell_type": "code",
   "execution_count": 33,
   "metadata": {},
   "outputs": [],
   "source": [
    "df_data['text'] = df_data['text'].apply(lambda x: remove_token_with_word_and_number(x))"
   ]
  },
  {
   "cell_type": "markdown",
   "metadata": {},
   "source": [
    "### Named Entity Recognition"
   ]
  },
  {
   "cell_type": "code",
   "execution_count": 34,
   "metadata": {},
   "outputs": [],
   "source": [
    "def perform_ner(texts):\n",
    "    replaced_texts = []\n",
    "    for doc in nlp.pipe(texts, n_process=6, batch_size=1000):\n",
    "        replaced_text = []\n",
    "        for token in doc:\n",
    "            if token.ent_type_:\n",
    "                replaced_text.append(token.ent_type_)\n",
    "            else:\n",
    "                replaced_text.append(token.text)\n",
    "        replaced_texts.append(' '.join(replaced_text))\n",
    "    \n",
    "    return replaced_texts\n",
    "\n",
    "def remove_ner(texts):\n",
    "    cleaned_texts = []\n",
    "    for doc in nlp.pipe(texts, n_process=6, batch_size=1000):\n",
    "        cleaned_text = []\n",
    "        for token in doc:\n",
    "            if not token.ent_type_:\n",
    "                cleaned_text.append(token.text)\n",
    "        cleaned_texts.append(' '.join(cleaned_text))\n",
    "    \n",
    "    return cleaned_texts"
   ]
  },
  {
   "cell_type": "code",
   "execution_count": 35,
   "metadata": {},
   "outputs": [],
   "source": [
    "df_data['text'] = perform_ner(df_data['text'])"
   ]
  },
  {
   "cell_type": "code",
   "execution_count": 36,
   "metadata": {},
   "outputs": [
    {
     "data": {
      "text/html": [
       "<div>\n",
       "<style scoped>\n",
       "    .dataframe tbody tr th:only-of-type {\n",
       "        vertical-align: middle;\n",
       "    }\n",
       "\n",
       "    .dataframe tbody tr th {\n",
       "        vertical-align: top;\n",
       "    }\n",
       "\n",
       "    .dataframe thead th {\n",
       "        text-align: right;\n",
       "    }\n",
       "</style>\n",
       "<table border=\"1\" class=\"dataframe\">\n",
       "  <thead>\n",
       "    <tr style=\"text-align: right;\">\n",
       "      <th></th>\n",
       "      <th>text</th>\n",
       "      <th>label</th>\n",
       "    </tr>\n",
       "  </thead>\n",
       "  <tbody>\n",
       "    <tr>\n",
       "      <th>0</th>\n",
       "      <td>rip overcharge unsympathetic book stay setai w...</td>\n",
       "      <td>negative</td>\n",
       "    </tr>\n",
       "    <tr>\n",
       "      <th>1</th>\n",
       "      <td>room near elevator meet expectation DATE DATE ...</td>\n",
       "      <td>negative</td>\n",
       "    </tr>\n",
       "    <tr>\n",
       "      <th>2</th>\n",
       "      <td>horrible service suprise bed wife icon wedding...</td>\n",
       "      <td>negative</td>\n",
       "    </tr>\n",
       "    <tr>\n",
       "      <th>3</th>\n",
       "      <td>check always nightmare DATE DATE DATE stay hot...</td>\n",
       "      <td>negative</td>\n",
       "    </tr>\n",
       "    <tr>\n",
       "      <th>4</th>\n",
       "      <td>dark literally figuratively ORDINAL good thing...</td>\n",
       "      <td>negative</td>\n",
       "    </tr>\n",
       "  </tbody>\n",
       "</table>\n",
       "</div>"
      ],
      "text/plain": [
       "                                                text     label\n",
       "0  rip overcharge unsympathetic book stay setai w...  negative\n",
       "1  room near elevator meet expectation DATE DATE ...  negative\n",
       "2  horrible service suprise bed wife icon wedding...  negative\n",
       "3  check always nightmare DATE DATE DATE stay hot...  negative\n",
       "4  dark literally figuratively ORDINAL good thing...  negative"
      ]
     },
     "execution_count": 36,
     "metadata": {},
     "output_type": "execute_result"
    }
   ],
   "source": [
    "df_data.head()"
   ]
  },
  {
   "cell_type": "code",
   "execution_count": 37,
   "metadata": {},
   "outputs": [],
   "source": [
    "df_clean = df_data[['text', 'label']]\n",
    "df_clean.columns = ['text', 'label']"
   ]
  },
  {
   "cell_type": "code",
   "execution_count": 38,
   "metadata": {},
   "outputs": [],
   "source": [
    "df_clean.to_csv('Data/data_2/clean_review_300k.csv', index=False)"
   ]
  }
 ],
 "metadata": {
  "kernelspec": {
   "display_name": "Python 3",
   "language": "python",
   "name": "python3"
  },
  "language_info": {
   "codemirror_mode": {
    "name": "ipython",
    "version": 3
   },
   "file_extension": ".py",
   "mimetype": "text/x-python",
   "name": "python",
   "nbconvert_exporter": "python",
   "pygments_lexer": "ipython3",
   "version": "3.9.0"
  }
 },
 "nbformat": 4,
 "nbformat_minor": 2
}
