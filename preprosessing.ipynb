{
 "cells": [
  {
   "cell_type": "markdown",
   "metadata": {},
   "source": [
    "## Data Loading"
   ]
  },
  {
   "cell_type": "markdown",
   "metadata": {},
   "source": [
    "Melakukan import library yang dibutuhkan dan memuat dataset yang akan digunakan."
   ]
  },
  {
   "cell_type": "code",
   "execution_count": 1,
   "metadata": {},
   "outputs": [
    {
     "name": "stderr",
     "output_type": "stream",
     "text": [
      "c:\\Users\\Gede Darmawan\\OneDrive\\Documents\\project\\Aspect-Based-Sentiment-Analysis-Hotel-Review\\.venv\\lib\\site-packages\\tqdm\\auto.py:21: TqdmWarning: IProgress not found. Please update jupyter and ipywidgets. See https://ipywidgets.readthedocs.io/en/stable/user_install.html\n",
      "  from .autonotebook import tqdm as notebook_tqdm\n"
     ]
    }
   ],
   "source": [
    "import spacy\n",
    "import pandas as pd\n",
    "import numpy as np\n",
    "import matplotlib.pyplot as plt\n",
    "from nltk.stem import LancasterStemmer\n",
    "import seaborn as sns\n",
    "import nltk\n",
    "import string\n",
    "import re\n",
    "import seaborn as sns\n",
    "from sklearn.utils import resample\n",
    "from nltk.corpus import stopwords\n",
    "from langdetect import detect # type: ignore\n",
    "import contextualSpellCheck"
   ]
  },
  {
   "cell_type": "markdown",
   "metadata": {},
   "source": [
    "Melakukan download Toolkit yang dibutuhkan untuk melakukan preprocessing data.\n",
    "- `stopwords` : Toolkit yang berisi kumpulan kata-kata yang tidak memiliki makna dan biasanya dihilangkan pada proses preprocessing data.\n",
    "- `wordnet` : Toolkit yang berisi kumpulan kata-kata digunakan untuk melakukan stemming pada proses preprocessing data.\n",
    "- `omw` : Toolkit yang berisi kumpulan kata-kata yang digunakan untuk melakukan lemmatization pada proses preprocessing data."
   ]
  },
  {
   "cell_type": "code",
   "execution_count": 2,
   "metadata": {},
   "outputs": [
    {
     "name": "stderr",
     "output_type": "stream",
     "text": [
      "[nltk_data] Downloading package stopwords to C:\\Users\\Gede\n",
      "[nltk_data]     Darmawan\\AppData\\Roaming\\nltk_data...\n",
      "[nltk_data]   Package stopwords is already up-to-date!\n",
      "[nltk_data] Downloading package wordnet to C:\\Users\\Gede\n",
      "[nltk_data]     Darmawan\\AppData\\Roaming\\nltk_data...\n",
      "[nltk_data]   Package wordnet is already up-to-date!\n",
      "[nltk_data] Downloading package omw-1.4 to C:\\Users\\Gede\n",
      "[nltk_data]     Darmawan\\AppData\\Roaming\\nltk_data...\n",
      "[nltk_data]   Package omw-1.4 is already up-to-date!\n"
     ]
    },
    {
     "data": {
      "text/plain": [
       "True"
      ]
     },
     "execution_count": 2,
     "metadata": {},
     "output_type": "execute_result"
    }
   ],
   "source": [
    "nltk.download('stopwords')\n",
    "nltk.download('wordnet')\n",
    "nltk.download('omw-1.4')"
   ]
  },
  {
   "cell_type": "markdown",
   "metadata": {},
   "source": [
    "Melakukan loading dataset yang akan digunakan dan memilih kolom yang akan digunakan yaitu `ratings_overall`, `title`, dan `text`."
   ]
  },
  {
   "cell_type": "code",
   "execution_count": 3,
   "metadata": {},
   "outputs": [
    {
     "data": {
      "text/html": [
       "<div>\n",
       "<style scoped>\n",
       "    .dataframe tbody tr th:only-of-type {\n",
       "        vertical-align: middle;\n",
       "    }\n",
       "\n",
       "    .dataframe tbody tr th {\n",
       "        vertical-align: top;\n",
       "    }\n",
       "\n",
       "    .dataframe thead th {\n",
       "        text-align: right;\n",
       "    }\n",
       "</style>\n",
       "<table border=\"1\" class=\"dataframe\">\n",
       "  <thead>\n",
       "    <tr style=\"text-align: right;\">\n",
       "      <th></th>\n",
       "      <th>ratings_overall</th>\n",
       "      <th>title</th>\n",
       "      <th>text</th>\n",
       "    </tr>\n",
       "  </thead>\n",
       "  <tbody>\n",
       "    <tr>\n",
       "      <th>0</th>\n",
       "      <td>5.0</td>\n",
       "      <td>“Truly is \"Jewel of the Upper Wets Side\"”</td>\n",
       "      <td>Stayed in a king suite for 11 nights and yes i...</td>\n",
       "    </tr>\n",
       "    <tr>\n",
       "      <th>1</th>\n",
       "      <td>5.0</td>\n",
       "      <td>“My home away from home!”</td>\n",
       "      <td>On every visit to NYC, the Hotel Beacon is the...</td>\n",
       "    </tr>\n",
       "    <tr>\n",
       "      <th>2</th>\n",
       "      <td>4.0</td>\n",
       "      <td>“Great Stay”</td>\n",
       "      <td>This is a great property in Midtown. We two di...</td>\n",
       "    </tr>\n",
       "    <tr>\n",
       "      <th>3</th>\n",
       "      <td>4.0</td>\n",
       "      <td>“Modern Convenience”</td>\n",
       "      <td>The Andaz is a nice hotel in a central locatio...</td>\n",
       "    </tr>\n",
       "    <tr>\n",
       "      <th>4</th>\n",
       "      <td>4.0</td>\n",
       "      <td>“Its the best of the Andaz Brand in the US....”</td>\n",
       "      <td>I have stayed at each of the US Andaz properti...</td>\n",
       "    </tr>\n",
       "    <tr>\n",
       "      <th>...</th>\n",
       "      <td>...</td>\n",
       "      <td>...</td>\n",
       "      <td>...</td>\n",
       "    </tr>\n",
       "    <tr>\n",
       "      <th>878556</th>\n",
       "      <td>4.0</td>\n",
       "      <td>“vil komme igen”</td>\n",
       "      <td>Pænt hotel i et livligt miljø. Store værelser,...</td>\n",
       "    </tr>\n",
       "    <tr>\n",
       "      <th>878557</th>\n",
       "      <td>4.0</td>\n",
       "      <td>“excellent”</td>\n",
       "      <td>un excellent hotel 4 *, pour un prix raisonnab...</td>\n",
       "    </tr>\n",
       "    <tr>\n",
       "      <th>878558</th>\n",
       "      <td>5.0</td>\n",
       "      <td>“Un hotel eccezionale”</td>\n",
       "      <td>L'hotel, situato in una zona tranquilla e a du...</td>\n",
       "    </tr>\n",
       "    <tr>\n",
       "      <th>878559</th>\n",
       "      <td>5.0</td>\n",
       "      <td>“Gerne wieder”</td>\n",
       "      <td>Sehr schön ausgestattetes Hotel in bester Lage...</td>\n",
       "    </tr>\n",
       "    <tr>\n",
       "      <th>878560</th>\n",
       "      <td>4.0</td>\n",
       "      <td>“Nuevo... novísimo. Estupendo lugar.”</td>\n",
       "      <td>El hotel está entre el aeropuerto y Washington...</td>\n",
       "    </tr>\n",
       "  </tbody>\n",
       "</table>\n",
       "<p>878561 rows × 3 columns</p>\n",
       "</div>"
      ],
      "text/plain": [
       "        ratings_overall                                            title  \\\n",
       "0                   5.0        “Truly is \"Jewel of the Upper Wets Side\"”   \n",
       "1                   5.0                        “My home away from home!”   \n",
       "2                   4.0                                     “Great Stay”   \n",
       "3                   4.0                             “Modern Convenience”   \n",
       "4                   4.0  “Its the best of the Andaz Brand in the US....”   \n",
       "...                 ...                                              ...   \n",
       "878556              4.0                                 “vil komme igen”   \n",
       "878557              4.0                                      “excellent”   \n",
       "878558              5.0                           “Un hotel eccezionale”   \n",
       "878559              5.0                                   “Gerne wieder”   \n",
       "878560              4.0            “Nuevo... novísimo. Estupendo lugar.”   \n",
       "\n",
       "                                                     text  \n",
       "0       Stayed in a king suite for 11 nights and yes i...  \n",
       "1       On every visit to NYC, the Hotel Beacon is the...  \n",
       "2       This is a great property in Midtown. We two di...  \n",
       "3       The Andaz is a nice hotel in a central locatio...  \n",
       "4       I have stayed at each of the US Andaz properti...  \n",
       "...                                                   ...  \n",
       "878556  Pænt hotel i et livligt miljø. Store værelser,...  \n",
       "878557  un excellent hotel 4 *, pour un prix raisonnab...  \n",
       "878558  L'hotel, situato in una zona tranquilla e a du...  \n",
       "878559  Sehr schön ausgestattetes Hotel in bester Lage...  \n",
       "878560  El hotel está entre el aeropuerto y Washington...  \n",
       "\n",
       "[878561 rows x 3 columns]"
      ]
     },
     "execution_count": 3,
     "metadata": {},
     "output_type": "execute_result"
    }
   ],
   "source": [
    "df_data = pd.read_csv('Data/data_2/review.csv')\n",
    "df_data = df_data[['ratings_overall', 'title', 'text']]\n",
    "df_data"
   ]
  },
  {
   "cell_type": "markdown",
   "metadata": {},
   "source": [
    "Dari output code di atas, terlihat terdapat 3 kolom dan 878561 baris dataset yang akan digunakan."
   ]
  },
  {
   "cell_type": "markdown",
   "metadata": {},
   "source": [
    "## Exploratory Data Analysis"
   ]
  },
  {
   "cell_type": "markdown",
   "metadata": {},
   "source": [
    "Tahap selanjutnya adalah melakukan Exploratory Data Analysis (EDA) untuk mengetahui karakteristik dari dataset yang akan digunakan, seperti:\n",
    "- Tipe data\n",
    "- Statistik deskriptif\n",
    "- Distribusi data\n",
    "- Missing value\n",
    "- Duplikasi data"
   ]
  },
  {
   "cell_type": "code",
   "execution_count": 4,
   "metadata": {},
   "outputs": [
    {
     "name": "stdout",
     "output_type": "stream",
     "text": [
      "<class 'pandas.core.frame.DataFrame'>\n",
      "RangeIndex: 878561 entries, 0 to 878560\n",
      "Data columns (total 3 columns):\n",
      " #   Column           Non-Null Count   Dtype  \n",
      "---  ------           --------------   -----  \n",
      " 0   ratings_overall  878561 non-null  float64\n",
      " 1   title            878561 non-null  object \n",
      " 2   text             878561 non-null  object \n",
      "dtypes: float64(1), object(2)\n",
      "memory usage: 20.1+ MB\n"
     ]
    }
   ],
   "source": [
    "df_data.info()"
   ]
  },
  {
   "cell_type": "markdown",
   "metadata": {},
   "source": [
    "Dari output code di atas, terlihat bahwa dataset yang akan digunakan memiliki tipe data `object` pada kolom `title` dan `text`, serta tipe data `float64` pada kolom `ratings_overall`."
   ]
  },
  {
   "cell_type": "code",
   "execution_count": 5,
   "metadata": {},
   "outputs": [
    {
     "name": "stdout",
     "output_type": "stream",
     "text": [
      "duplicated\t 803\n",
      "ratings_overall    0\n",
      "title              0\n",
      "text               0\n",
      "dtype: int64\n"
     ]
    }
   ],
   "source": [
    "print('duplicated\\t', df_data.duplicated().sum())\n",
    "print(df_data.isnull().sum())"
   ]
  },
  {
   "cell_type": "markdown",
   "metadata": {},
   "source": [
    "Dari output code di atas, terlihat terdapat 803 duplikasi data pada dataset yang akan digunakan. Sedangkan tidak terdapat missing value pada dataset yang akan digunakan."
   ]
  },
  {
   "cell_type": "code",
   "execution_count": 6,
   "metadata": {},
   "outputs": [
    {
     "data": {
      "text/html": [
       "<div>\n",
       "<style scoped>\n",
       "    .dataframe tbody tr th:only-of-type {\n",
       "        vertical-align: middle;\n",
       "    }\n",
       "\n",
       "    .dataframe tbody tr th {\n",
       "        vertical-align: top;\n",
       "    }\n",
       "\n",
       "    .dataframe thead th {\n",
       "        text-align: right;\n",
       "    }\n",
       "</style>\n",
       "<table border=\"1\" class=\"dataframe\">\n",
       "  <thead>\n",
       "    <tr style=\"text-align: right;\">\n",
       "      <th></th>\n",
       "      <th>ratings_overall</th>\n",
       "    </tr>\n",
       "  </thead>\n",
       "  <tbody>\n",
       "    <tr>\n",
       "      <th>count</th>\n",
       "      <td>878561.000000</td>\n",
       "    </tr>\n",
       "    <tr>\n",
       "      <th>mean</th>\n",
       "      <td>3.936228</td>\n",
       "    </tr>\n",
       "    <tr>\n",
       "      <th>std</th>\n",
       "      <td>1.165074</td>\n",
       "    </tr>\n",
       "    <tr>\n",
       "      <th>min</th>\n",
       "      <td>0.000000</td>\n",
       "    </tr>\n",
       "    <tr>\n",
       "      <th>25%</th>\n",
       "      <td>3.000000</td>\n",
       "    </tr>\n",
       "    <tr>\n",
       "      <th>50%</th>\n",
       "      <td>4.000000</td>\n",
       "    </tr>\n",
       "    <tr>\n",
       "      <th>75%</th>\n",
       "      <td>5.000000</td>\n",
       "    </tr>\n",
       "    <tr>\n",
       "      <th>max</th>\n",
       "      <td>5.000000</td>\n",
       "    </tr>\n",
       "  </tbody>\n",
       "</table>\n",
       "</div>"
      ],
      "text/plain": [
       "       ratings_overall\n",
       "count    878561.000000\n",
       "mean          3.936228\n",
       "std           1.165074\n",
       "min           0.000000\n",
       "25%           3.000000\n",
       "50%           4.000000\n",
       "75%           5.000000\n",
       "max           5.000000"
      ]
     },
     "execution_count": 6,
     "metadata": {},
     "output_type": "execute_result"
    }
   ],
   "source": [
    "df_data.describe()"
   ]
  },
  {
   "cell_type": "markdown",
   "metadata": {},
   "source": [
    "Dari deskripsi statistik tersebut, terlihat bahwa rata-rata rating yang diberikan oleh user adalah 3.9 dengan standar deviasi sebesar 1.3. Sedangkan nilai median dari rating yang diberikan oleh user adalah 4.0. Hal ini menunjukan bahwa data cenderung memiliki left skewness."
   ]
  },
  {
   "cell_type": "markdown",
   "metadata": {},
   "source": [
    "Langkah selanjutnya adalah melakukan encoding pada kolom `ratings_overall` menjadi 3 kelas yaitu `negative`, `neutral`, dan `positive` berdasarkan nilai rating yang diberikan oleh user."
   ]
  },
  {
   "cell_type": "code",
   "execution_count": 7,
   "metadata": {},
   "outputs": [],
   "source": [
    "encoding = {\n",
    "    1: 'negative',\n",
    "    2: 'negative',\n",
    "    3: 'neutral',\n",
    "    4: 'positive',\n",
    "    5: 'positive'\n",
    "}"
   ]
  },
  {
   "cell_type": "code",
   "execution_count": 8,
   "metadata": {},
   "outputs": [],
   "source": [
    "df_data['label'] = df_data['ratings_overall'].map(encoding)"
   ]
  },
  {
   "cell_type": "code",
   "execution_count": 9,
   "metadata": {},
   "outputs": [
    {
     "data": {
      "text/plain": [
       "<Axes: xlabel='label'>"
      ]
     },
     "execution_count": 9,
     "metadata": {},
     "output_type": "execute_result"
    },
    {
     "data": {
      "image/png": "[encoded data removed]",
      "text/plain": [
       "<Figure size 640x480 with 1 Axes>"
      ]
     },
     "metadata": {},
     "output_type": "display_data"
    }
   ],
   "source": [
    "df_data['label'].value_counts().plot(kind='bar')"
   ]
  },
  {
   "cell_type": "code",
   "execution_count": 10,
   "metadata": {},
   "outputs": [
    {
     "data": {
      "text/plain": [
       "label\n",
       "positive    642046\n",
       "neutral     122565\n",
       "negative    113933\n",
       "Name: count, dtype: int64"
      ]
     },
     "execution_count": 10,
     "metadata": {},
     "output_type": "execute_result"
    }
   ],
   "source": [
    "df_data['label'].value_counts()"
   ]
  },
  {
   "cell_type": "markdown",
   "metadata": {},
   "source": [
    "Dari diagram batang dan value count di atas, terlihat bahwa data cenderung tidak seimbang, dimana terdapat lebih banyak data yang memiliki rating `positive` dibandingkan dengan data yang memiliki rating `negative` dan `neutral`."
   ]
  },
  {
   "cell_type": "markdown",
   "metadata": {},
   "source": [
    "## Data Preprocessing"
   ]
  },
  {
   "cell_type": "markdown",
   "metadata": {},
   "source": [
    "Langkah selanjutnya adalah melakukan preprocessing data pada kolom `text` yang akan digunakan sebagai fitur pada model yang akan dibuat."
   ]
  },
  {
   "cell_type": "markdown",
   "metadata": {},
   "source": [
    "### Remove Duplicate Data"
   ]
  },
  {
   "cell_type": "code",
   "execution_count": 11,
   "metadata": {},
   "outputs": [
    {
     "data": {
      "text/plain": [
       "0"
      ]
     },
     "execution_count": 11,
     "metadata": {},
     "output_type": "execute_result"
    }
   ],
   "source": [
    "df_data.drop_duplicates(inplace=True)\n",
    "df_data.duplicated().sum()"
   ]
  },
  {
   "cell_type": "markdown",
   "metadata": {},
   "source": [
    "### Downsample Data"
   ]
  },
  {
   "cell_type": "markdown",
   "metadata": {},
   "source": [
    "Skewness data dapat diatasi dengan menggunakan teknik upsampling atau downsampling, tetapi pada studi kasus ini karena data yang digunakan cukup besar, maka akan dilakukan downsampling saja. Selain untuk mengatasi data yang tidak seimbang, downsampling ini juga bertujuan untuk mempercepat proses komputasi."
   ]
  },
  {
   "cell_type": "code",
   "execution_count": 12,
   "metadata": {},
   "outputs": [
    {
     "data": {
      "text/plain": [
       "label\n",
       "negative    53834\n",
       "neutral     53834\n",
       "positive    53834\n",
       "Name: count, dtype: int64"
      ]
     },
     "execution_count": 12,
     "metadata": {},
     "output_type": "execute_result"
    }
   ],
   "source": [
    "df_new = pd.DataFrame()\n",
    "target_count = 53834\n",
    "\n",
    "for rating, group in df_data.groupby('label'):\n",
    "    if len(group) > target_count:\n",
    "        ratings_new = resample(group, replace=False, n_samples=target_count, random_state=42)\n",
    "    else:\n",
    "        ratings_new = group\n",
    "    df_new = pd.concat([df_new, ratings_new])\n",
    "\n",
    "df_data = df_new.reset_index(drop=True)\n",
    "df_data['label'].value_counts()"
   ]
  },
  {
   "cell_type": "markdown",
   "metadata": {},
   "source": [
    "Dari output code di atas, terlihat bahwa data yang digunakan setelah dilakukan yaitu masing-masing berjumlah 53834 data per label."
   ]
  },
  {
   "cell_type": "markdown",
   "metadata": {},
   "source": [
    "Selanjutnya kolom `title` dan `text` akan digabungkan menjadi satu kolom baru yaitu `text` yang akan digunakan sebagai fitur pada model yang akan dibuat."
   ]
  },
  {
   "cell_type": "code",
   "execution_count": 13,
   "metadata": {},
   "outputs": [],
   "source": [
    "df_data['text'] = df_data['title'] + ' ' + df_data['text']\n",
    "df_data = df_data[['ratings_overall', 'text', 'label']]"
   ]
  },
  {
   "cell_type": "markdown",
   "metadata": {},
   "source": [
    "### Remove Non-English Text"
   ]
  },
  {
   "cell_type": "markdown",
   "metadata": {},
   "source": [
    "Langkah selanjutnya adalah melakukan penghapusan data yang bukan berbahasa Inggris. Hal ini dilakukan untuk memastikan bahwa data yang digunakan dalam model adalah data yang berbahasa Inggris, hal ini bertujuan agar preprocessing data yang dilakukan secara seragam."
   ]
  },
  {
   "cell_type": "code",
   "execution_count": 14,
   "metadata": {},
   "outputs": [],
   "source": [
    "def language_detection(text):\n",
    "    try:\n",
    "        return detect(text)\n",
    "    except:\n",
    "        return 'other'"
   ]
  },
  {
   "cell_type": "code",
   "execution_count": 15,
   "metadata": {},
   "outputs": [
    {
     "data": {
      "text/plain": [
       "language\n",
       "en       141742\n",
       "de         4776\n",
       "fr         4366\n",
       "it         4038\n",
       "es         2866\n",
       "ja         1127\n",
       "pt          802\n",
       "sv          539\n",
       "nl          481\n",
       "da          331\n",
       "no          224\n",
       "zh-cn        93\n",
       "ru           53\n",
       "tr           28\n",
       "pl           11\n",
       "ko            7\n",
       "af            4\n",
       "el            4\n",
       "th            3\n",
       "ca            2\n",
       "zh-tw         2\n",
       "so            1\n",
       "tl            1\n",
       "id            1\n",
       "Name: count, dtype: int64"
      ]
     },
     "execution_count": 15,
     "metadata": {},
     "output_type": "execute_result"
    }
   ],
   "source": [
    "df_data['language'] = df_data['text'].apply(language_detection)\n",
    "df_data.value_counts('language')"
   ]
  },
  {
   "cell_type": "markdown",
   "metadata": {},
   "source": [
    "Dari output code di atas, terlihat bahwa data yang berbahasa Inggris berjumlah 141739 yang dilabelkan dengan `en`, sehingga hanya data yang memiliki label `en` yang akan digunakan."
   ]
  },
  {
   "cell_type": "code",
   "execution_count": 16,
   "metadata": {},
   "outputs": [],
   "source": [
    "df_data = df_data[df_data['language'] == 'en']"
   ]
  },
  {
   "cell_type": "markdown",
   "metadata": {},
   "source": [
    "### Remove Special Character and Additional Cleaning"
   ]
  },
  {
   "cell_type": "markdown",
   "metadata": {},
   "source": [
    "Pada tahap ini akan dilakukan penghapusan karakter khusus atau simbol yang tidak diperlukan pada teks."
   ]
  },
  {
   "cell_type": "code",
   "execution_count": 17,
   "metadata": {},
   "outputs": [],
   "source": [
    "def remove_punctuation(text):\n",
    "    text = ''.join([char if char not in string.punctuation else ' ' for char in text]).lower()\n",
    "    return text"
   ]
  },
  {
   "cell_type": "markdown",
   "metadata": {},
   "source": [
    "Selain itu akan dilakukan replace beberapa kata yang sering digunakan dalam bahasa Inggris dan juga menghapus karakter non-ASCII."
   ]
  },
  {
   "cell_type": "code",
   "execution_count": 18,
   "metadata": {},
   "outputs": [],
   "source": [
    "def additional_cleaning(text):\n",
    "    replacements = {\n",
    "        'n t': 'not',\n",
    "        'nt': 'not',\n",
    "        'didn t': 'did not',\n",
    "        'didn': 'did not',\n",
    "        'don t': 'do not',\n",
    "        'don': 'do not',\n",
    "        'doesn t': 'does not',\n",
    "        'doesn': 'does not',\n",
    "        'hasn t': 'has not',\n",
    "        'hasn': 'has not',\n",
    "        'haven t': 'have not',\n",
    "        'haven': 'have not',\n",
    "        'hadn t': 'had not',\n",
    "        'hadn': 'had not',\n",
    "        'won t': 'will not',\n",
    "        'won': 'will not',\n",
    "        'wouldn t': 'would not',\n",
    "        'wouldn': 'would not',\n",
    "        'can t': 'can not',\n",
    "        'can': 'can not',\n",
    "        'couldn t': 'could not',\n",
    "        'couldn': 'could not',\n",
    "        'shouldn t': 'should not',\n",
    "        'shouldn': 'should not',\n",
    "        'aren t': 'are not',\n",
    "        'aren': 'are not',\n",
    "        'ain t': 'am not',\n",
    "        'ain': 'am not',\n",
    "        'isn t': 'is not',\n",
    "        'isn': 'is not',\n",
    "        'wasn t': 'was not',\n",
    "        'wasn': 'was not',\n",
    "        'were t': 'were not',\n",
    "        'were': 'were not',\n",
    "        'weren t': 'were not',\n",
    "        'weren': 'were not',\n",
    "        'what s': 'what is',\n",
    "        'what': 'what is',\n",
    "        'who s': 'who is',\n",
    "        'who': 'who is',\n",
    "        'where s': 'where is',\n",
    "        'where': 'where is',\n",
    "        'when s': 'when is',\n",
    "        'when': 'when is',\n",
    "        'why s': 'why is',\n",
    "        'why': 'why is',\n",
    "        'how s': 'how is',\n",
    "        'how': 'how is',\n",
    "        'll': 'will',\n",
    "        've': 'have',\n",
    "        're': 'are',\n",
    "        'm': 'am',\n",
    "        'em': 'them',\n",
    "        'thats': 'that is',\n",
    "        'that s': 'that is'\n",
    "    }\n",
    "    for old, new in replacements.items():\n",
    "        text = re.sub(r'\\b' + old + r'\\b', new, text)\n",
    "\n",
    "    text = re.sub(r'[^\\x00-\\x7F]+', '', text)\n",
    "\n",
    "    return text"
   ]
  },
  {
   "cell_type": "code",
   "execution_count": 19,
   "metadata": {},
   "outputs": [],
   "source": [
    "df_data['clean_punc'] = df_data['text'].apply(lambda x: remove_punctuation(x)).apply(lambda x: additional_cleaning(x))"
   ]
  },
  {
   "cell_type": "markdown",
   "metadata": {},
   "source": [
    "### Stopwords Removal\n"
   ]
  },
  {
   "cell_type": "markdown",
   "metadata": {},
   "source": [
    "Langkah selanjutnya adalah melakukan penghapusan stopwords pada teks dengan menggunakan toolkit `stopwords` berbahasa Inggris."
   ]
  },
  {
   "cell_type": "code",
   "execution_count": 20,
   "metadata": {},
   "outputs": [],
   "source": [
    "stopwords_list = stopwords.words('english')\n",
    "def remove_stopwords(text):\n",
    "    token_words = text.split()\n",
    "    filtered_words = []\n",
    "    for word in token_words:\n",
    "        if word not in stopwords_list:\n",
    "            filtered_words.append(word)\n",
    "    return ' '.join(filtered_words)"
   ]
  },
  {
   "cell_type": "code",
   "execution_count": 21,
   "metadata": {},
   "outputs": [],
   "source": [
    "df_data['clean_punc'] = df_data['clean_punc'].apply(lambda x: remove_stopwords(x))"
   ]
  },
  {
   "cell_type": "markdown",
   "metadata": {},
   "source": [
    "### Lemmatization"
   ]
  },
  {
   "cell_type": "markdown",
   "metadata": {},
   "source": [
    "Sebelum itu akan dilakukan pemanggilan pre-trained model dari spaCy untuk melakukan proses lemmatization."
   ]
  },
  {
   "cell_type": "code",
   "execution_count": 22,
   "metadata": {},
   "outputs": [],
   "source": [
    "nlp = spacy.load('en_core_web_lg')"
   ]
  },
  {
   "cell_type": "markdown",
   "metadata": {},
   "source": [
    "Pada lemmatization akan dilakukan dengan menggunakan pre-trained model dari spaCy, dimana proses lemmatization ini akan mengubah kata-kata yang ada pada teks menjadi kata dasar dari kata-kata tersebut."
   ]
  },
  {
   "cell_type": "code",
   "execution_count": 23,
   "metadata": {},
   "outputs": [],
   "source": [
    "def lemmatize_text(texts):\n",
    "    lemmatized_texts = []\n",
    "    for doc in nlp.pipe(texts, n_process=6,batch_size=1000):\n",
    "        lemmatized_text = ' '.join([token.lemma_ for token in doc])\n",
    "        lemmatized_texts.append(lemmatized_text)\n",
    "    return lemmatized_texts"
   ]
  },
  {
   "cell_type": "code",
   "execution_count": 24,
   "metadata": {},
   "outputs": [],
   "source": [
    "df_data['lemmatized_review'] = lemmatize_text(df_data['clean_punc'])"
   ]
  },
  {
   "cell_type": "markdown",
   "metadata": {},
   "source": [
    "### Remove Word-Number Combination"
   ]
  },
  {
   "cell_type": "markdown",
   "metadata": {},
   "source": [
    "Selanjutnya akan dilakukan penghapusan kata-kata yang merupakan kombinasi antara kata dan angka, hal ini bertujuan untuk mengurangi hal-hal yang tidak diperlukan pada teks."
   ]
  },
  {
   "cell_type": "code",
   "execution_count": 25,
   "metadata": {},
   "outputs": [],
   "source": [
    "def remove_token_with_word_and_number(text):\n",
    "    words = text.split()\n",
    "    filtered_words = []\n",
    "    for word in words:\n",
    "        if not any(char.isdigit() for char in word):\n",
    "            filtered_words.append(word)\n",
    "    return ' '.join(filtered_words)\n"
   ]
  },
  {
   "cell_type": "code",
   "execution_count": 26,
   "metadata": {},
   "outputs": [],
   "source": [
    "df_data['number_review'] = df_data['lemmatized_review'].apply(lambda x: remove_token_with_word_and_number(x))"
   ]
  },
  {
   "cell_type": "markdown",
   "metadata": {},
   "source": [
    "### Named Entity Recognition"
   ]
  },
  {
   "cell_type": "markdown",
   "metadata": {},
   "source": [
    "Langkah selanjutnya adalah melakukan proses Named Entity Recognition (NER) pada teks. NER adalah proses untuk mengidentifikasi entitas yang memiliki makna tertentu pada teks, seperti nama orang, nama tempat, dan lain sebagainya. Hal ini bertujuan agar nama-nama entitas tersebut tidak suatu hal yang penting pada proses klasifikasi sentimen."
   ]
  },
  {
   "cell_type": "markdown",
   "metadata": {},
   "source": [
    "Pada NER ini pre-trained model yang sebelumnya digunakan untuk lemmatization akan digunakan kembali."
   ]
  },
  {
   "cell_type": "code",
   "execution_count": 39,
   "metadata": {},
   "outputs": [],
   "source": [
    "def perform_ner(texts,mode):\n",
    "    replaced_texts = []\n",
    "    if mode == 'ner': \n",
    "        for doc in nlp.pipe(texts, n_process=6, batch_size=1000):\n",
    "            replaced_text = []\n",
    "            for token in doc:\n",
    "                if token.ent_type_:\n",
    "                    replaced_text.append(token.ent_type_)\n",
    "                else:\n",
    "                    replaced_text.append(token.text)\n",
    "            replaced_texts.append(' '.join(replaced_text))\n",
    "    else:\n",
    "        for doc in nlp.pipe(texts, n_process=6, batch_size=1000):\n",
    "            replaced_text = []\n",
    "            for token in doc:\n",
    "                if not token.ent_type_:\n",
    "                    replaced_text.append(token.text)\n",
    "            replaced_texts.append(' '.join(replaced_text))\n",
    "    \n",
    "    return replaced_texts"
   ]
  },
  {
   "cell_type": "code",
   "execution_count": 40,
   "metadata": {},
   "outputs": [],
   "source": [
    "df_data['ner_review'] = perform_ner(df_data['number_review'],'ner')\n",
    "df_data['rner_review'] = perform_ner(df_data['number_review'],'rner')"
   ]
  },
  {
   "cell_type": "code",
   "execution_count": 41,
   "metadata": {},
   "outputs": [
    {
     "name": "stdout",
     "output_type": "stream",
     "text": [
      "Original Review:\t “Near Airport with Good Shuttle Service” Stayed here for a night on the way back from Hawaii on a very short layover with my family of five. Arrived around 9 and the shuttle service was the best part about the stay. Very convenient, friendly driver and quick ride from airport. Check-in took a while since everyone getting off the shuttle checks in at once.\n",
      "We reserved a \"family room\" that had a room with two double beds and a connecting room with a king bed, but only one bathroom. Room was a great size but this is an older property and our room was at the very end of a series of hallways and confusing walkways and elevators to reach; I'm guessing one of the older rooms. It had a stale smell and was in need of renovation both in the rooms and bathroom. Bed comforters looked old and dirty. \n",
      "Went down to the restaurant to eat, since we hadn't eaten dinner and kids were starving. Even though we arrived toward the end of their posted hours you could tell they didn't want to serve us and we were not welcomed warmly. Food was ok. Bar area hopping, but kids not allowed to eat in the bar area.\n",
      "Shuttle back to airport for early morning flight was again perfect. Would not stay at this hotel again unless it was needed for a very short overnight stay. I'm sure there are better properties in the area.\n",
      "Lemmatized Review:\t near airport good shuttle service stay night way back hawaii short layover family five arrive around 9 shuttle service good part stay convenient friendly driver quick ride airport check take since everyone get shuttle check reserve family room room two double bed connect room king bed one bathroom room great size old property room end series hallway confuse walkway elevator reach guess one old room stale smell need renovation room bathroom bed comforter look old dirty go restaurant eat since eat dinner kid starve even though arrive toward end post hour could tell want serve we welcome warmly food ok bar area hop kid allow eat bar area shuttle back airport early morning flight perfect would stay hotel unless need short overnight stay sure well property area\n",
      "Token Number Review:\t near airport good shuttle service stay night way back hawaii short layover family five arrive around shuttle service good part stay convenient friendly driver quick ride airport check take since everyone get shuttle check reserve family room room two double bed connect room king bed one bathroom room great size old property room end series hallway confuse walkway elevator reach guess one old room stale smell need renovation room bathroom bed comforter look old dirty go restaurant eat since eat dinner kid starve even though arrive toward end post hour could tell want serve we welcome warmly food ok bar area hop kid allow eat bar area shuttle back airport early morning flight perfect would stay hotel unless need short overnight stay sure well property area\n",
      "Name Entity R Review:\t near airport good shuttle service stay night way back GPE short layover family CARDINAL arrive around shuttle service good part stay convenient friendly driver quick ride airport check take since everyone get shuttle check reserve family room room CARDINAL double bed connect room king bed CARDINAL bathroom room great size old property room end series hallway confuse walkway elevator reach guess CARDINAL old room stale smell need renovation room bathroom bed comforter look old dirty go restaurant eat since eat dinner kid starve even though arrive toward end TIME TIME could tell want serve we welcome warmly food ok bar area hop kid allow eat bar area shuttle back airport TIME TIME flight perfect would stay hotel unless need short TIME stay sure well property area\n",
      "Remove Name ER Review:\t near airport good shuttle service stay night way back short layover family arrive around shuttle service good part stay convenient friendly driver quick ride airport check take since everyone get shuttle check reserve family room room double bed connect room king bed bathroom room great size old property room end series hallway confuse walkway elevator reach guess old room stale smell need renovation room bathroom bed comforter look old dirty go restaurant eat since eat dinner kid starve even though arrive toward end could tell want serve we welcome warmly food ok bar area hop kid allow eat bar area shuttle back airport flight perfect would stay hotel unless need short stay sure well property area\n"
     ]
    }
   ],
   "source": [
    "print('Original Review:\\t', df_data['text'][0])\n",
    "print('Lemmatized Review:\\t', df_data['lemmatized_review'][0])\n",
    "print('Token Number Review:\\t', df_data['number_review'][0])\n",
    "print('Name Entity R Review:\\t', df_data['ner_review'][0])\n",
    "print('Remove Name ER Review:\\t', df_data['rner_review'][0])"
   ]
  },
  {
   "cell_type": "code",
   "execution_count": 42,
   "metadata": {},
   "outputs": [
    {
     "data": {
      "text/html": [
       "<div>\n",
       "<style scoped>\n",
       "    .dataframe tbody tr th:only-of-type {\n",
       "        vertical-align: middle;\n",
       "    }\n",
       "\n",
       "    .dataframe tbody tr th {\n",
       "        vertical-align: top;\n",
       "    }\n",
       "\n",
       "    .dataframe thead th {\n",
       "        text-align: right;\n",
       "    }\n",
       "</style>\n",
       "<table border=\"1\" class=\"dataframe\">\n",
       "  <thead>\n",
       "    <tr style=\"text-align: right;\">\n",
       "      <th></th>\n",
       "      <th>ratings_overall</th>\n",
       "      <th>text</th>\n",
       "      <th>label</th>\n",
       "      <th>language</th>\n",
       "      <th>clean_punc</th>\n",
       "      <th>lemmatized_review</th>\n",
       "      <th>number_review</th>\n",
       "      <th>ner_review</th>\n",
       "      <th>rner_review</th>\n",
       "    </tr>\n",
       "  </thead>\n",
       "  <tbody>\n",
       "    <tr>\n",
       "      <th>0</th>\n",
       "      <td>2.0</td>\n",
       "      <td>“Near Airport with Good Shuttle Service” Staye...</td>\n",
       "      <td>negative</td>\n",
       "      <td>en</td>\n",
       "      <td>near airport good shuttle service stayed night...</td>\n",
       "      <td>near airport good shuttle service stay night w...</td>\n",
       "      <td>near airport good shuttle service stay night w...</td>\n",
       "      <td>near airport good shuttle service stay night w...</td>\n",
       "      <td>near airport good shuttle service stay night w...</td>\n",
       "    </tr>\n",
       "    <tr>\n",
       "      <th>1</th>\n",
       "      <td>1.0</td>\n",
       "      <td>“Gets a low ranking for a reason...” I've few ...</td>\n",
       "      <td>negative</td>\n",
       "      <td>en</td>\n",
       "      <td>gets low ranking reason positive things say ho...</td>\n",
       "      <td>get low rank reason positive thing say hotel s...</td>\n",
       "      <td>get low rank reason positive thing say hotel s...</td>\n",
       "      <td>get low rank reason positive thing say hotel s...</td>\n",
       "      <td>get low rank reason positive thing say hotel s...</td>\n",
       "    </tr>\n",
       "    <tr>\n",
       "      <th>2</th>\n",
       "      <td>2.0</td>\n",
       "      <td>“Budget hotel pretending to be a resort” The H...</td>\n",
       "      <td>negative</td>\n",
       "      <td>en</td>\n",
       "      <td>budget hotel pretending resort hanalei hotel r...</td>\n",
       "      <td>budget hotel pretend resort hanalei hotel real...</td>\n",
       "      <td>budget hotel pretend resort hanalei hotel real...</td>\n",
       "      <td>budget hotel pretend resort ORG ORG really mot...</td>\n",
       "      <td>budget hotel pretend resort really motel level...</td>\n",
       "    </tr>\n",
       "    <tr>\n",
       "      <th>3</th>\n",
       "      <td>1.0</td>\n",
       "      <td>“Dish out a few extra bucks and stay elsewhere...</td>\n",
       "      <td>negative</td>\n",
       "      <td>en</td>\n",
       "      <td>dish extra bucks stay elsewhere place looks ac...</td>\n",
       "      <td>dish extra buck stay elsewhere place look acce...</td>\n",
       "      <td>dish extra buck stay elsewhere place look acce...</td>\n",
       "      <td>dish extra buck stay elsewhere place look acce...</td>\n",
       "      <td>dish extra buck stay elsewhere place look acce...</td>\n",
       "    </tr>\n",
       "    <tr>\n",
       "      <th>4</th>\n",
       "      <td>2.0</td>\n",
       "      <td>“L.A. on a budget” The Good: Lowest cost for a...</td>\n",
       "      <td>negative</td>\n",
       "      <td>en</td>\n",
       "      <td>l budget good lowest cost branded hotel near d...</td>\n",
       "      <td>l budget good low cost brand hotel near downto...</td>\n",
       "      <td>l budget good low cost brand hotel near downto...</td>\n",
       "      <td>l budget good low cost brand hotel near downto...</td>\n",
       "      <td>l budget good low cost brand hotel near downto...</td>\n",
       "    </tr>\n",
       "  </tbody>\n",
       "</table>\n",
       "</div>"
      ],
      "text/plain": [
       "   ratings_overall                                               text  \\\n",
       "0              2.0  “Near Airport with Good Shuttle Service” Staye...   \n",
       "1              1.0  “Gets a low ranking for a reason...” I've few ...   \n",
       "2              2.0  “Budget hotel pretending to be a resort” The H...   \n",
       "3              1.0  “Dish out a few extra bucks and stay elsewhere...   \n",
       "4              2.0  “L.A. on a budget” The Good: Lowest cost for a...   \n",
       "\n",
       "      label language                                         clean_punc  \\\n",
       "0  negative       en  near airport good shuttle service stayed night...   \n",
       "1  negative       en  gets low ranking reason positive things say ho...   \n",
       "2  negative       en  budget hotel pretending resort hanalei hotel r...   \n",
       "3  negative       en  dish extra bucks stay elsewhere place looks ac...   \n",
       "4  negative       en  l budget good lowest cost branded hotel near d...   \n",
       "\n",
       "                                   lemmatized_review  \\\n",
       "0  near airport good shuttle service stay night w...   \n",
       "1  get low rank reason positive thing say hotel s...   \n",
       "2  budget hotel pretend resort hanalei hotel real...   \n",
       "3  dish extra buck stay elsewhere place look acce...   \n",
       "4  l budget good low cost brand hotel near downto...   \n",
       "\n",
       "                                       number_review  \\\n",
       "0  near airport good shuttle service stay night w...   \n",
       "1  get low rank reason positive thing say hotel s...   \n",
       "2  budget hotel pretend resort hanalei hotel real...   \n",
       "3  dish extra buck stay elsewhere place look acce...   \n",
       "4  l budget good low cost brand hotel near downto...   \n",
       "\n",
       "                                          ner_review  \\\n",
       "0  near airport good shuttle service stay night w...   \n",
       "1  get low rank reason positive thing say hotel s...   \n",
       "2  budget hotel pretend resort ORG ORG really mot...   \n",
       "3  dish extra buck stay elsewhere place look acce...   \n",
       "4  l budget good low cost brand hotel near downto...   \n",
       "\n",
       "                                         rner_review  \n",
       "0  near airport good shuttle service stay night w...  \n",
       "1  get low rank reason positive thing say hotel s...  \n",
       "2  budget hotel pretend resort really motel level...  \n",
       "3  dish extra buck stay elsewhere place look acce...  \n",
       "4  l budget good low cost brand hotel near downto...  "
      ]
     },
     "execution_count": 42,
     "metadata": {},
     "output_type": "execute_result"
    }
   ],
   "source": [
    "df_data.head()"
   ]
  },
  {
   "cell_type": "code",
   "execution_count": 43,
   "metadata": {},
   "outputs": [],
   "source": [
    "df_clean = df_data[['ner_review', 'ratings_overall', 'label']]\n",
    "df_clean.columns = ['text', 'rating', 'label']"
   ]
  },
  {
   "cell_type": "code",
   "execution_count": 44,
   "metadata": {},
   "outputs": [],
   "source": [
    "df_clean.to_csv('Data/data_2/clean_review_160k.csv', index=False)"
   ]
  }
 ],
 "metadata": {
  "kernelspec": {
   "display_name": "Python 3",
   "language": "python",
   "name": "python3"
  },
  "language_info": {
   "codemirror_mode": {
    "name": "ipython",
    "version": 3
   },
   "file_extension": ".py",
   "mimetype": "text/x-python",
   "name": "python",
   "nbconvert_exporter": "python",
   "pygments_lexer": "ipython3",
   "version": "3.10.2"
  }
 },
 "nbformat": 4,
 "nbformat_minor": 2
}
