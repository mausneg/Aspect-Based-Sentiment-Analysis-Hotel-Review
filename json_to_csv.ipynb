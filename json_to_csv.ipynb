{
 "cells": [
  {
   "cell_type": "code",
   "execution_count": 3,
   "metadata": {},
   "outputs": [],
   "source": [
    "import json\n",
    "import pandas as pd\n",
    "import re"
   ]
  },
  {
   "cell_type": "code",
   "execution_count": 4,
   "metadata": {},
   "outputs": [],
   "source": [
    "data_json = []\n",
    "\n",
    "with open('Data/data_3/review.txt', 'r') as f:\n",
    "    for line in f:\n",
    "        data_json.append(json.loads(line))\n"
   ]
  },
  {
   "cell_type": "code",
   "execution_count": 5,
   "metadata": {},
   "outputs": [
    {
     "data": {
      "text/plain": [
       "{'ratings': {'service': 5.0,\n",
       "  'cleanliness': 5.0,\n",
       "  'overall': 5.0,\n",
       "  'value': 5.0,\n",
       "  'location': 5.0,\n",
       "  'sleep_quality': 5.0,\n",
       "  'rooms': 5.0},\n",
       " 'title': '“Truly is \"Jewel of the Upper Wets Side\"”',\n",
       " 'text': 'Stayed in a king suite for 11 nights and yes it cots us a bit but we were happy with the standard of room, the location and the friendliness of the staff. Our room was on the 20th floor overlooking Broadway and the madhouse of the Fairway Market. Room was quite with no noise evident from the hallway or adjoining rooms. It was great to be able to open windows when we craved fresh rather than heated air. The beds, including the fold out sofa bed, were comfortable and the rooms were cleaned well. Wi-fi access worked like a dream with only one connectivity issue on our first night and this was promptly responded to with a call from the service provider to ensure that all was well. The location close to the 72nd Street subway station is great and the complimentary umbrellas on the drizzly days were greatly appreciated. It is fabulous to have the kitchen with cooking facilities and the access to a whole range of fresh foods directly across the road at Fairway.\\nThis is the second time that members of the party have stayed at the Beacon and it will certainly be our hotel of choice for future visits.',\n",
       " 'author': {'username': 'Papa_Panda',\n",
       "  'num_cities': 22,\n",
       "  'num_helpful_votes': 12,\n",
       "  'num_reviews': 29,\n",
       "  'num_type_reviews': 24,\n",
       "  'id': '8C0B42FF3C0FA366A21CFD785302A032',\n",
       "  'location': 'Gold Coast'},\n",
       " 'date_stayed': 'December 2012',\n",
       " 'offering_id': 93338,\n",
       " 'num_helpful_votes': 0,\n",
       " 'date': 'December 17, 2012',\n",
       " 'id': 147643103,\n",
       " 'via_mobile': False}"
      ]
     },
     "execution_count": 5,
     "metadata": {},
     "output_type": "execute_result"
    }
   ],
   "source": [
    "data_json[0]"
   ]
  },
  {
   "cell_type": "code",
   "execution_count": 6,
   "metadata": {},
   "outputs": [],
   "source": [
    "ratings_keys = ['overall', 'value', 'rooms', 'location', 'cleanliness', 'service']\n",
    "author_keys = ['username', 'num_reviews', 'num_type_reviews', 'num_cities', 'helpful_votes', 'num_votes']"
   ]
  },
  {
   "cell_type": "code",
   "execution_count": 13,
   "metadata": {},
   "outputs": [],
   "source": [
    "data_dict = {}\n",
    "\n",
    "for items in data_json:\n",
    "    for key in items.keys():\n",
    "        if key == 'ratings':\n",
    "            for ratings_key in ratings_keys:\n",
    "                data_dict.setdefault('ratings_'+ratings_key, []).append(items[key][ratings_key] if ratings_key in items[key] else None)\n",
    "        elif key == 'author':\n",
    "            for author_key in author_keys:\n",
    "                data_dict.setdefault('author_'+author_key, []).append(items[key][author_key] if author_key in items[key] else None)\n",
    "        elif key != 'date_stayed':\n",
    "            data_dict.setdefault(key, []).append(items[key] if items[key] else None)"
   ]
  },
  {
   "cell_type": "code",
   "execution_count": 14,
   "metadata": {},
   "outputs": [
    {
     "name": "stdout",
     "output_type": "stream",
     "text": [
      "ratings_overall 878561\n",
      "ratings_value 878561\n",
      "ratings_rooms 878561\n",
      "ratings_location 878561\n",
      "ratings_cleanliness 878561\n",
      "ratings_service 878561\n",
      "title 878561\n",
      "text 878561\n",
      "author_username 878561\n",
      "author_num_reviews 878561\n",
      "author_num_type_reviews 878561\n",
      "author_num_cities 878561\n",
      "author_helpful_votes 878561\n",
      "author_num_votes 878561\n",
      "offering_id 878561\n",
      "num_helpful_votes 878561\n",
      "date 878561\n",
      "id 878561\n",
      "via_mobile 878561\n"
     ]
    }
   ],
   "source": [
    "for key in data_dict.keys():\n",
    "    print(key, len(data_dict[key]))"
   ]
  },
  {
   "cell_type": "code",
   "execution_count": 15,
   "metadata": {},
   "outputs": [],
   "source": [
    "df_data = pd.DataFrame(data_dict)\n",
    "df_data.to_csv('Data/data_3/review.csv', index=False)"
   ]
  }
 ],
 "metadata": {
  "kernelspec": {
   "display_name": ".venv",
   "language": "python",
   "name": "python3"
  },
  "language_info": {
   "codemirror_mode": {
    "name": "ipython",
    "version": 3
   },
   "file_extension": ".py",
   "mimetype": "text/x-python",
   "name": "python",
   "nbconvert_exporter": "python",
   "pygments_lexer": "ipython3",
   "version": "3.9.0"
  }
 },
 "nbformat": 4,
 "nbformat_minor": 2
}
