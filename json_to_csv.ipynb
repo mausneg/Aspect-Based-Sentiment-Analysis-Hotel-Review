{
 "cells": [
  {
   "cell_type": "code",
   "execution_count": 1,
   "metadata": {},
   "outputs": [],
   "source": [
    "import json\n",
    "import pandas as pd\n",
    "import re"
   ]
  },
  {
   "cell_type": "code",
   "execution_count": 2,
   "metadata": {},
   "outputs": [],
   "source": [
    "data_json = []\n",
    "\n",
    "with open('Data/data_3/review.txt', 'r') as f:\n",
    "    for line in f:\n",
    "        data_json.append(json.loads(line))\n"
   ]
  },
  {
   "cell_type": "code",
   "execution_count": 18,
   "metadata": {},
   "outputs": [
    {
     "data": {
      "text/plain": [
       "{'ratings': {'service': 5.0,\n",
       "  'cleanliness': 5.0,\n",
       "  'overall': 5.0,\n",
       "  'value': 5.0,\n",
       "  'location': 5.0,\n",
       "  'sleep_quality': 5.0,\n",
       "  'rooms': 5.0},\n",
       " 'title': '“Truly is \"Jewel of the Upper Wets Side\"”',\n",
       " 'text': 'Stayed in a king suite for 11 nights and yes it cots us a bit but we were happy with the standard of room, the location and the friendliness of the staff. Our room was on the 20th floor overlooking Broadway and the madhouse of the Fairway Market. Room was quite with no noise evident from the hallway or adjoining rooms. It was great to be able to open windows when we craved fresh rather than heated air. The beds, including the fold out sofa bed, were comfortable and the rooms were cleaned well. Wi-fi access worked like a dream with only one connectivity issue on our first night and this was promptly responded to with a call from the service provider to ensure that all was well. The location close to the 72nd Street subway station is great and the complimentary umbrellas on the drizzly days were greatly appreciated. It is fabulous to have the kitchen with cooking facilities and the access to a whole range of fresh foods directly across the road at Fairway.\\nThis is the second time that members of the party have stayed at the Beacon and it will certainly be our hotel of choice for future visits.',\n",
       " 'author': {'username': 'Papa_Panda',\n",
       "  'num_cities': 22,\n",
       "  'num_helpful_votes': 12,\n",
       "  'num_reviews': 29,\n",
       "  'num_type_reviews': 24,\n",
       "  'id': '8C0B42FF3C0FA366A21CFD785302A032',\n",
       "  'location': 'Gold Coast'},\n",
       " 'date_stayed': 'December 2012',\n",
       " 'offering_id': 93338,\n",
       " 'num_helpful_votes': 0,\n",
       " 'date': 'December 17, 2012',\n",
       " 'id': 147643103,\n",
       " 'via_mobile': False}"
      ]
     },
     "execution_count": 18,
     "metadata": {},
     "output_type": "execute_result"
    }
   ],
   "source": [
    "data_json[0]"
   ]
  },
  {
   "cell_type": "code",
   "execution_count": 6,
   "metadata": {},
   "outputs": [],
   "source": [
    "data_dict = {\n",
    "    'service': [],\n",
    "    'cleanliness': [],\n",
    "    'overall': [],\n",
    "    'value': [],\n",
    "    'location': [],\n",
    "    'sleep_quality': [],\n",
    "    'rooms': [],\n",
    "    'title': [],\n",
    "    'text': [],\n",
    "    'author_username': [],\n",
    "    'author_num_cities': [],\n",
    "    'author_num_reviews': [],\n",
    "    'author_num_type_reviews': [],\n",
    "    'author_id': [],\n",
    "    'author_location': [],\n",
    "    'date_stayed': [],\n",
    "    'offering_id': [],\n",
    "    'num_helpful_votes': [],\n",
    "    'date': [],\n",
    "    'id': [],\n",
    "    'via_mobile': [],\n",
    "}\n"
   ]
  },
  {
   "cell_type": "code",
   "execution_count": 7,
   "metadata": {},
   "outputs": [],
   "source": [
    "pattern = {\n",
    "    'service': r\"'service'\\s*:\\s*([\\d.^,]+)\\,\",\n",
    "    'cleanliness': r\"'cleanliness'\\s*:\\s*([\\d.^,]+)\\,\",\n",
    "    'overall': r\"'overall'\\s*:\\s*([\\d.^,]+)\\,\",\n",
    "    'value': r\"'value'\\s*:\\s*([\\d.^,]+)\\,\",\n",
    "    'location': r\"'location'\\s*:\\s*([\\d.^,]+)\\,\",\n",
    "    'sleep_quality': r\"'sleep_quality'\\s*:\\s*([\\d.^,]+)\\,\",\n",
    "    'rooms': r\"'rooms'\\s*:\\s*([\\d.^,]+)\\,\",\n",
    "    'title': r\"'title'\\s*:\\s*'(.+?)'\\,\",\n",
    "    'text': r\"'text'\\s*:\\s*'(.+?)'\\,\",\n",
    "    'author_username': r\"'username'\\s*:\\s*'(.+?)'\\,\",\n",
    "    'author_num_cities': r\"'num_cities'\\s*:\\s*([\\d.^,]+)\\,\",\n",
    "    'author_num_reviews': r\"'num_reviews'\\s*:\\s*([\\d.^,]+)\\,\",\n",
    "    'author_num_type_reviews': r\"'num_type_reviews'\\s*:\\s*([\\d.^,]+)\\,\",\n",
    "    'author_id': r\"'id'\\s*:\\s*'(.+?)'\\,\",\n",
    "    'author_location': r\"'location'\\s*:\\s*'(.+?)'\\,\",\n",
    "    'date_stayed': r\"'date_stayed'\\s*:\\s*'(.+?)'\\,\",\n",
    "    'offering_id': r\"'offering_id'\\s*:\\s*([\\d.^,]+)\\,\",\n",
    "    'num_helpful_votes': r\"'num_helpful_votes'\\s*:\\s*([\\d.^,]+)\\,\",\n",
    "    'date': r\"'date'\\s*:\\s*'(.+?)'\\,\",\n",
    "    'id': r\"'id'\\s*:\\s*([\\d.^,]+)\\,\",\n",
    "    'via_mobile': r\"'via_mobile'\\s*:\\s*(True|False)\\}\",\n",
    "}\n"
   ]
  },
  {
   "cell_type": "code",
   "execution_count": 8,
   "metadata": {},
   "outputs": [],
   "source": []
  },
  {
   "cell_type": "code",
   "execution_count": 17,
   "metadata": {},
   "outputs": [
    {
     "ename": "TypeError",
     "evalue": "'dict_items' object is not subscriptable",
     "output_type": "error",
     "traceback": [
      "\u001b[1;31m---------------------------------------------------------------------------\u001b[0m",
      "\u001b[1;31mTypeError\u001b[0m                                 Traceback (most recent call last)",
      "Cell \u001b[1;32mIn[17], line 1\u001b[0m\n\u001b[1;32m----> 1\u001b[0m \u001b[38;5;28;01mfor\u001b[39;00m v, k \u001b[38;5;129;01min\u001b[39;00m \u001b[43mdata_dict\u001b[49m\u001b[38;5;241;43m.\u001b[39;49m\u001b[43mitems\u001b[49m\u001b[43m(\u001b[49m\u001b[43m)\u001b[49m\u001b[43m[\u001b[49m\u001b[38;5;241;43m0\u001b[39;49m\u001b[43m:\u001b[49m\u001b[38;5;241;43m5\u001b[39;49m\u001b[43m]\u001b[49m:\n\u001b[0;32m      2\u001b[0m     \u001b[38;5;28mprint\u001b[39m(v, \u001b[38;5;28mlen\u001b[39m(k))\n",
      "\u001b[1;31mTypeError\u001b[0m: 'dict_items' object is not subscriptable"
     ]
    }
   ],
   "source": []
  },
  {
   "cell_type": "code",
   "execution_count": null,
   "metadata": {},
   "outputs": [],
   "source": []
  }
 ],
 "metadata": {
  "kernelspec": {
   "display_name": ".venv",
   "language": "python",
   "name": "python3"
  },
  "language_info": {
   "codemirror_mode": {
    "name": "ipython",
    "version": 3
   },
   "file_extension": ".py",
   "mimetype": "text/x-python",
   "name": "python",
   "nbconvert_exporter": "python",
   "pygments_lexer": "ipython3",
   "version": "3.9.0"
  }
 },
 "nbformat": 4,
 "nbformat_minor": 2
}
